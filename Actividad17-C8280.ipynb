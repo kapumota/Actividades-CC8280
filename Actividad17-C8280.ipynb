{
 "cells": [
  {
   "cell_type": "markdown",
   "id": "6920738f",
   "metadata": {},
   "source": [
    "#### Problema 1: Simulación de un cliente-servidor\n",
    "Conceptos: Cliente, Servidor, Protocolo, TCP/IP\n",
    "\n",
    "Escribe una función en Python que simule la comunicación entre un cliente y un servidor usando la programación funcional. El cliente debería ser capaz de enviar mensajes y el servidor de responder de acuerdo con un protocolo simple (por ejemplo, eco, reverso del mensaje, etc.).\n",
    "\n",
    "\n",
    "- Implementa funciones separadas para el comportamiento del cliente y del servidor.\n",
    "- Simula el envío y recepción de mensajes.\n",
    "- Aplica conceptos de TCP/IP en un contexto abstracto.\n",
    "\n",
    "#### Problema 2: Verificación de integridad de datos\n",
    "Conceptos: Checksum, CRC (Cyclic Redundancy Check)\n",
    "\n",
    "Desarrolla una función que calcule el checksum o CRC de un string de datos. Esta función será utilizada para verificar la integridad de los datos enviados en un \"paquete\" de un punto a otro en una red.\n",
    "\n",
    "\n",
    "- Implementar una función que calcule un checksum simple.\n",
    "- Implementar una función que calcule el CRC.\n",
    "- Demuestra cómo se podría utilizar para verificar la integridad de los datos en una red.\n",
    "\n",
    "#### Problema 3: Encriptación y desencriptación\n",
    "Conceptos: Encriptación y desencriptación, clave Pública, clave Privada\n",
    "\n",
    "Escribe funciones para encriptar y desencriptar mensajes usando un enfoque funcional. Usa un método simple de encriptación como el cifrado César para ilustrar cómo se podrían manejar las llaves.\n",
    "\n",
    "- Crea funciones para encriptar y desencriptar mensajes.\n",
    "- Simula el uso de llaves públicas y privadas en la encriptación/desencriptación.\n",
    "\n",
    "#### Problema 4: Simulación del modelo OSI\n",
    "Conceptos: Modelo OSI, Encapsulación de Datos, Protocol Stack\n",
    "\n",
    "Desarrolla una serie de funciones que simulan la transmisión de datos a través de las diferentes capas del modelo OSI, mostrando cómo se encapsulan y desencapsulan los datos en cada capa.\n",
    "\n",
    "- Implementa funciones que representen cada capa del modelo OSI.\n",
    "- Simula el proceso de encapsulación y desencapsulación de datos.\n",
    "\n",
    "#### Problema 5: Topología de red\n",
    "\n",
    "Conceptos: Topología, LAN, WAN\n",
    "\n",
    "Crea una función que genere una representación de una topología de red dada, como una red en estrella o en malla, utilizando estructuras de datos simples como listas o diccionarios.\n",
    "\n",
    "- Implementa una función que represente visualmente una topología de red.\n",
    "- Aplica conceptos de LAN y WAN en la representación.\n",
    "\n",
    "#### Problema 6: Simulación de multicast\n",
    "Conceptos: Multicast, Router, Protocolo\n",
    "\n",
    "Desarrolla una función que simule el envío de un mensaje a múltiples destinatarios utilizando el concepto de multicast. La función deberá decidir a qué nodos (representados como funciones o direcciones) enviar el mensaje basado en una lista de suscripción.\n",
    "\n",
    "- Implementar la lógica para determinar los destinatarios de un mensaje multicast.\n",
    "- Simular la distribución de mensajes en una red.\n",
    "\n",
    "#### Problema 7: Cache de red\n",
    "Conceptos: Cache de red, Protocolo de cache, Eficiencia de red\n",
    "\n",
    "Crea una función que simule un cache de red simple. Esta función deberá almacenar resultados de operaciones o datos frecuentemente accesados y servirlos rápidamente sin necesidad de una nueva operación de red.\n",
    "\n",
    "- Implementa un mecanismo de cache utilizando diccionarios.\n",
    "- Demostrar la mejora en eficiencia al evitar operaciones repetidas.\n",
    "\n",
    "#### Problema 8: Firewall funcional\n",
    "Conceptos: Firewall, Políticas de Seguridad, Protocolos\n",
    "\n",
    "Escribe una función que actúe como un firewall simple, que pueda aceptar o rechazar paquetes de datos basado en reglas definidas funcionalmente (por ejemplo, direcciones IP autorizadas, puertos, etc.).\n",
    "\n",
    "- Implementa reglas de aceptación o rechazo en forma de funciones.\n",
    "- Simula la filtración de tráfico de red basada en estas reglas.\n",
    "\n",
    "#### Problema 9: simulación de ARPANET\n",
    "Conceptos: ARPANET, Protocolo de Comunicación, Historia de Internet\n",
    "\n",
    "Desarrolla una función que simule el funcionamiento básico de ARPANET, incluyendo el enrutamiento de mensajes entre nodos utilizando un protocolo histórico simplificado.\n",
    "\n",
    "- Implementa una simulación básica del primer mecanismo de enrutamiento.\n",
    "\n",
    "#### Problema 10: Análisis de topología de Red\n",
    "Conceptos: Topología, Análisis de Red, Ethernet\n",
    "\n",
    "Crea una función que analice una estructura de datos que represente una topología de red (como un grafo) y determine ciertas métricas como la cantidad de nodos, la conectividad, y la posible presencia de puntos críticos o cuellos de botella.\n",
    "\n",
    "- Implementa análisis de grafos básicos para entender la estructura de una red.\n",
    "- Aplica conceptos de topología de red en un contexto práctico.\n",
    "\n",
    "\n",
    "#### Problema 11: Simulación de Flooding en Ethernet\n",
    "Conceptos: Flooding, MAC Table, Ethernet\n",
    "\n",
    "Desarrolla una función que simule el proceso de \"flooding\" utilizado en switches Ethernet para distribuir paquetes cuando la dirección de destino no está en la tabla MAC. La función debe manejar la adición de direcciones desconocidas a la tabla MAC.\n",
    "\n",
    "\n",
    "- Implementar una función que simule la recepción de frames y su distribución basada en la tabla MAC.\n",
    "\n",
    "#### Problema 12: Manejo de una red Ad hoc\n",
    "Conceptos: Wireless Ad Hoc Network, SSID\n",
    "\n",
    "Crea una función que simule la creación y gestión de una red ad hoc inalámbrica, donde cada dispositivo puede conectarse directamente con otros sin necesidad de un punto de acceso central. La función debe permitir agregar y eliminar dispositivos de la red.\n",
    "\n",
    "- Simular la dinámica de formación de una red ad hoc inalámbrica utilizando SSIDs.\n",
    "\n",
    "#### Problema 13: Cálculo de interferencia de Canal\n",
    "Conceptos: Co-channel Interference, CSMA/CA\n",
    "\n",
    "Escribe una función que calcule la probabilidad de interferencia en un canal compartido, basada en el número de dispositivos activos y el método de acceso CSMA/CA para evitar colisiones.\n",
    "\n",
    "- Implementa una función que evalúe la interferencia potencial en un entorno con múltiples dispositivos inalámbricos.\n",
    "\n",
    "#### Problema 14: VLAN trunking simulation\n",
    "Conceptos: VLAN, Trunk\n",
    "\n",
    "Desarrolla una función que simule la configuración y administración de VLANs en un entorno de red. La función debe permitir configurar qué puertos están en qué VLAN y cómo se manejan los trunks entre switches.\n",
    "\n",
    "- Simula la creación y el manejo de VLANs y su distribución a través de trunks.\n",
    "\n",
    "#### Problema 15: Autenticación y seguridad en WLAN\n",
    "Conceptos: WPA2, Initialization Vector, ESSID\n",
    "\n",
    "Implementa una función que simule el proceso de autenticación WPA2 para una WLAN. La función debe usar vectores de inicialización para generar claves temporales y manejar múltiples conexiones bajo el mismo ESSID.\n",
    "\n",
    "- Crea una función que simule la seguridad y autenticación en redes WLAN usando WPA2 y vectores de inicialización.\n",
    "\n",
    "#### Problema 16: Simulador de resolución de direcciones\n",
    "Conceptos: Address resolution, ARP, ifconfig, ipconfig\n",
    "\n",
    "Desarrolla una función que simule la resolución de direcciones en una red local. La función debe tomar una dirección IP y devolver una dirección MAC ficticia usando una tabla estática predefinida.\n",
    "\n",
    "- Implementa una simulación del protocolo ARP (Address Resolution Protocol) usando funciones puras.\n",
    "\n",
    "#### Problema 17: Codificación y decodificación Base64\n",
    "Conceptos: Base64 encoding\n",
    "\n",
    "Escribe funciones para codificar y decodificar texto usando la codificación Base64, sin utilizar la biblioteca base64 de Python.\n",
    "\n",
    "- Aplica los principios de la codificación Base64 manualmente utilizando funciones puras.\n",
    "\n",
    "#### Problema 18: Simulación de un ataque de denegación de servicio\n",
    "Conceptos: Denial of Service attack, Network (service)\n",
    "\n",
    "Crea una función que simule la recepción de múltiples solicitudes a un servicio de red, determinando cuándo el servicio se consideraría sobrecargado.\n",
    "\n",
    "- Modela cómo un servicio de red podría manejar o fallar bajo una carga intensa de tráfico.\n",
    "\n",
    "#### Problema 19: Herramienta de diagnóstico de red funcional\n",
    "Conceptos: ping, traceroute/tracert, hop, Route\n",
    "\n",
    "Desarrolla una función que simule el comando traceroute, mostrando una ruta ficticia y los tiempos de hop para cada nodo en la ruta.\n",
    "\n",
    "Simula el funcionamiento del comando traceroute utilizando estructuras de datos y funciones puras para calcular y mostrar la ruta y los tiempos de transmisión.\n",
    "\n",
    "#### Problema 20: Análisis de log de red\n",
    "Conceptos: Log file, Filter, Event Viewer\n",
    "\n",
    "Implementa una función que analice un archivo de log simulado de eventos de red, filtrando y mostrando eventos basados en criterios específicos como errores, alertas de seguridad, etc.\n",
    "\n",
    "- Crea una función que procese y filtre datos de manera eficiente para simular el análisis de un archivo de log de eventos de red.\n",
    "\n",
    "#### Problema 21: Simulación de resolución de nombres DNS\n",
    "Conceptos involucrados: DNS client, DNS resolver, Recursive DNS query, Iterative DNS query, A record, AAAA record, MX record, CNAME record, NS record.\n",
    "\n",
    "Escribe funciones que simulen el proceso de resolución de nombres DNS. Debes implementar tanto consultas DNS recursivas como iterativas. La función debe poder manejar varios tipos de registros (A, AAAA, MX, CNAME, NS).\n",
    "\n",
    "- Implementa una función resolve_name que acepte un nombre de dominio y el tipo de registro y que determine qué tipo de consulta realizar (recursiva o iterativa).\n",
    "- Define funciones auxiliares que simulen el comportamiento de diferentes tipos de registros y cómo serían resueltos.\n",
    "\n",
    "#### Problema 22: Gestión de caché en un servidor DNS\n",
    "Conceptos involucrados: Caching DNS name server, TTL, Expiration time, Refresh rate.\n",
    "\n",
    "Desarrolla una función que simule un servidor DNS que utiliza caché para almacenar respuestas DNS. La caché debe expirar las entradas basadas en su TTL.\n",
    "\n",
    "- Crea una función query_dns que consulte una caché antes de simular una consulta externa.\n",
    "- Implementa una función update_cache para añadir o actualizar entradas en la caché, incluyendo manejo del TTL.\n",
    "- Añade una función clean_expired_entries que limpie las entradas expiradas de la caché periódicamente.\n",
    "\n",
    "#### Problema 23: Simulación de load balancing con DNS\n",
    "\n",
    "Conceptos involucrados: Geolocation-based load-balancing policy, Latency-based load-balancing policy, Round-robin load-balancing policy, Weighted round-robin load-balancing policy.\n",
    "\n",
    "Crea una función que simule cómo un sistema DNS podría dirigir tráfico a diferentes servidores utilizando diversas políticas de balanceo de carga.\n",
    "\n",
    "- Define una función select_server que acepte una lista de servidores y una política de balanceo de carga.\n",
    "- Implementa diferentes estrategias de balanceo de carga como funciones que seleccionen un servidor basado en la política especificada.\n",
    "\n",
    "#### Problema 24: Simulación de un registrador de dominios\n",
    "Conceptos involucrados: Domain name registrar, Domain parking, Whois, Zone file.\n",
    "\n",
    "Escribe una función que simule un registrador de dominios capaz de registrar, estacionar y proporcionar información WHOIS de dominios.\n",
    "\n",
    "- Implementa una función register_domain que permita registrar un nuevo dominio y guardarlo en un \"archivo de zona\".\n",
    "- Crea una función park_domain que marque un dominio como estacionado.\n",
    "- Desarrolla una función query_whois que proporcione información WHOIS del dominio."
   ]
  },
  {
   "cell_type": "markdown",
   "id": "dde5a252",
   "metadata": {},
   "source": [
    "#### Respuesta 1\n",
    "\n",
    "Paso 1: Definir las funciones del servidor:"
   ]
  },
  {
   "cell_type": "code",
   "execution_count": null,
   "id": "aa1c5535",
   "metadata": {},
   "outputs": [],
   "source": [
    "def servidor(mensaje):\n",
    "    \"\"\"Procesa los mensajes enviados por el cliente según el comando especificado.\"\"\"\n",
    "    comando, _, contenido = mensaje.partition(':')\n",
    "    if comando.strip().lower() == 'eco':\n",
    "        return contenido.strip()\n",
    "    elif comando.strip().lower() == 'reverso':\n",
    "        return contenido.strip()[::-1]\n",
    "    else:\n",
    "        return \"Comando no reconocido.\"\n"
   ]
  },
  {
   "cell_type": "markdown",
   "id": "0c397d25",
   "metadata": {},
   "source": [
    "El servido debe ser capaz de interpretar el mensaje recibido y responder de acuerdo a un comando especificado en el mensaje.\n"
   ]
  },
  {
   "cell_type": "markdown",
   "id": "eeac8a2f",
   "metadata": {},
   "source": [
    "Paso 2: Definir el cliente"
   ]
  },
  {
   "cell_type": "code",
   "execution_count": null,
   "id": "fa217b23",
   "metadata": {},
   "outputs": [],
   "source": [
    "def cliente(mensaje):\n",
    "    \"\"\"Envía mensajes al servidor y procesa la respuesta.\"\"\"\n",
    "    respuesta = servidor(mensaje)\n",
    "    print(f\"Servidor dice: {respuesta}\")"
   ]
  },
  {
   "cell_type": "markdown",
   "id": "5b18dad0",
   "metadata": {},
   "source": [
    "Paso 3: Simulación de la comunicación\n",
    "Para simular la comunicación, simplemente llamaremos a la función cliente con diferentes mensajes:"
   ]
  },
  {
   "cell_type": "code",
   "execution_count": null,
   "id": "30e04ff1",
   "metadata": {},
   "outputs": [],
   "source": [
    "def main():\n",
    "    cliente(\"eco: Hola Mundo\")\n",
    "    cliente(\"reverso: Hola Mundo\")\n",
    "    cliente(\"sumar: 123 + 456\")  # Este debería dar un error ya que no está implementado\n",
    "\n",
    "if __name__ == \"__main__\":\n",
    "    main()\n"
   ]
  },
  {
   "cell_type": "markdown",
   "id": "d0feedb0",
   "metadata": {},
   "source": [
    "#### Ejercicios para extender la simulación\n",
    "- Agregar más comandos: Implementa más funcionalidades en el servidor, como sumar números o convertir el mensaje a mayúsculas.\n",
    "- Validación de mensajes: Agrega validaciones para asegurarte de que los mensajes sigan el formato correcto antes de procesarlos.\n",
    "- Simular retrasos de Red: Introduce retrasos aleatorios para simular la latencia de la red y observa cómo afecta la comunicación."
   ]
  },
  {
   "cell_type": "code",
   "execution_count": null,
   "id": "25ec27bc",
   "metadata": {},
   "outputs": [],
   "source": [
    "### Tus respuestas"
   ]
  },
  {
   "cell_type": "markdown",
   "id": "728690eb",
   "metadata": {},
   "source": [
    "#### Respuesta 2\n",
    "\n",
    "Para abordar este problema, vamos a crear dos funciones en Python. La primera calculará un checksum simple para un string de datos, mientras que la segunda implementará un Cyclic Redundancy Check (CRC) más robusto. Posteriormente, mostraré cómo estas funciones pueden ser utilizadas para verificar la integridad de los datos enviados entre dos puntos en una red.\n",
    "\n",
    "1 . Función para calcular el checksum simple\n",
    "\n",
    "El checksum simple que desarrollaremos será la suma de los valores ASCII de los caracteres en el string, reducido a un byte (utilizando módulo 256). Este método es sencillo y rápido, aunque no es muy robusto frente a errores complejos."
   ]
  },
  {
   "cell_type": "code",
   "execution_count": null,
   "id": "71928e61",
   "metadata": {},
   "outputs": [],
   "source": [
    "def calcular_checksum_simple(datos):\n",
    "    \"\"\"Calcula el checksum simple de un string de datos.\"\"\"\n",
    "    return sum(ord(c) for c in datos) % 256\n"
   ]
  },
  {
   "cell_type": "markdown",
   "id": "834ed2a2",
   "metadata": {},
   "source": [
    "2 . Función para calcular el CRC\n",
    "El CRC es un método más avanzado para detectar errores en los datos. Utilizaremos un polinomio común para CRC-32, que es ampliamente usado en software de comunicaciones.\n",
    "\n"
   ]
  },
  {
   "cell_type": "code",
   "execution_count": null,
   "id": "fc4eaad8",
   "metadata": {},
   "outputs": [],
   "source": [
    "def calcular_crc(datos):\n",
    "    \"\"\"Calcula el CRC-32 de un string de datos.\"\"\"\n",
    "    from zlib import crc32\n",
    "    return crc32(datos.encode()) & 0xffffffff\n"
   ]
  },
  {
   "cell_type": "markdown",
   "id": "251b820c",
   "metadata": {},
   "source": [
    "3 . Demostración del uso para verificar la integridad de los datos\n",
    "Podemos demostrar cómo estas funciones pueden ser usadas para verificar la integridad de los datos enviados entre dos puntos en una red simulando el envío de un mensaje que incluye su checksum o CRC, y luego verificando ese valor en el punto de recepción."
   ]
  },
  {
   "cell_type": "code",
   "execution_count": null,
   "id": "d38c0b71",
   "metadata": {},
   "outputs": [],
   "source": [
    "def enviar_datos(datos, metodo='checksum'):\n",
    "    \"\"\"Simula el envío de datos incluyendo un checksum o CRC.\"\"\"\n",
    "    if metodo == 'checksum':\n",
    "        checksum = calcular_checksum_simple(datos)\n",
    "        return datos, checksum\n",
    "    elif metodo == 'crc':\n",
    "        crc = calcular_crc(datos)\n",
    "        return datos, crc\n",
    "\n",
    "def recibir_datos(datos, valor, metodo='checksum'):\n",
    "    \"\"\"Verifica la integridad de los datos recibidos utilizando checksum o CRC.\"\"\"\n",
    "    if metodo == 'checksum':\n",
    "        checksum_calculado = calcular_checksum_simple(datos)\n",
    "        es_valido = checksum_calculado == valor\n",
    "    elif metodo == 'crc':\n",
    "        crc_calculado = calcular_crc(datos)\n",
    "        es_valido = crc_calculado == valor\n",
    "\n",
    "    return es_valido\n",
    "\n",
    "# Demostración\n",
    "datos_enviados, checksum = enviar_datos(\"Hola Mundo\", metodo='checksum')\n",
    "print(\"Checksum enviado:\", checksum)\n",
    "es_correcto = recibir_datos(datos_enviados, checksum, metodo='checksum')\n",
    "print(\"¿Checksum correcto?\", es_correcto)\n",
    "\n",
    "datos_enviados, crc = enviar_datos(\"Hola Mundo\", metodo='crc')\n",
    "print(\"CRC enviado:\", crc)\n",
    "es_correcto = recibir_datos(datos_enviados, crc, metodo='crc')\n",
    "print(\"¿CRC correcto?\", es_correcto)\n"
   ]
  },
  {
   "cell_type": "markdown",
   "id": "f26e1b5f",
   "metadata": {},
   "source": [
    "#### Ejercicios adicionales para extender el uso\n",
    "\n",
    "- Simula errores en la transmisión: Modifica los datos entre el envío y la recepción para simular errores en la transmisión y verifica si los métodos de checksum y CRC detectan estos errores.\n",
    "- Implementa otros algoritmos CRC: Prueba con diferentes polinomios CRC para ver cómo varían en efectividad y complejidad.\n",
    "- Integra en un sistema de comunicación real: Utiliza estas funciones en un socket de red o en una comunicación serial para ver cómo funcionan en escenarios reales."
   ]
  },
  {
   "cell_type": "code",
   "execution_count": null,
   "id": "4f4a8eb8",
   "metadata": {},
   "outputs": [],
   "source": [
    "### Tus respuestas"
   ]
  },
  {
   "cell_type": "markdown",
   "id": "2cfbf777",
   "metadata": {},
   "source": [
    "#### Respuesta 3\n",
    "\n",
    "Para este problema, implementaremos un método simple de encriptación y desencriptación utilizando el cifrado César, que es un tipo de cifrado por sustitución donde cada letra en el texto original es desplazada un cierto número de lugares hacia abajo o hacia arriba en el alfabeto. Aunque este método es bastante básico y no utiliza directamente claves pública y privada como en los sistemas criptográficos modernos, podemos adaptarlo para simular el concepto usando \"claves\" que determinan el desplazamiento.\n",
    "\n",
    "Paso 1: Crea las funciones de encriptación y desencriptación\n",
    "\n",
    "Primero, definiremos las funciones de encriptación y desencriptación. Para mantenerlo simple y funcional, consideraremos sólo letras del alfabeto inglés y omitiremos otros caracteres."
   ]
  },
  {
   "cell_type": "code",
   "execution_count": null,
   "id": "bb0000bb",
   "metadata": {},
   "outputs": [],
   "source": [
    "def cifrado_cesar(texto, desplazamiento):\n",
    "    \"\"\"Encripta el texto utilizando el cifrado César con un desplazamiento dado.\"\"\"\n",
    "    resultado = \"\"\n",
    "    for char in texto:\n",
    "        if char.isalpha():\n",
    "            offset = 65 if char.isupper() else 97\n",
    "            resultado += chr((ord(char) - offset + desplazamiento) % 26 + offset)\n",
    "        else:\n",
    "            resultado += char\n",
    "    return resultado\n",
    "\n",
    "def descifrado_cesar(texto_cifrado, desplazamiento):\n",
    "    \"\"\"Desencripta el texto cifrado utilizando el cifrado César con el desplazamiento dado.\"\"\"\n",
    "    return cifrado_cesar(texto_cifrado, -desplazamiento)\n"
   ]
  },
  {
   "cell_type": "markdown",
   "id": "9bcdea18",
   "metadata": {},
   "source": [
    "#### Paso 2: Simular el uso de claves públicas y privadas\n",
    "En el cifrado César, el \"desplazamiento\" actúa como una clave. Para simular un sistema de clave pública y clave privada:\n",
    "\n",
    "Podríamos definir que la \"clave pública\" es el desplazamiento usado para cifrar.\n",
    "La \"clave privada\" sería el desplazamiento negativo (o el desplazamiento complementario hasta 26) necesario para descifrar.\n",
    "Esto no es realmente un uso de claves pública/privada como en criptografía RSA, pero ayuda a ilustrar el concepto de que una clave es conocida por todos (pública) y la otra es mantenida en secreto (privada)."
   ]
  },
  {
   "cell_type": "code",
   "execution_count": null,
   "id": "926ae4bf",
   "metadata": {},
   "outputs": [],
   "source": [
    "def demostracion():\n",
    "    mensaje_original = \"Hola Mundo\"\n",
    "    desplazamiento = 4  # Esta sería la \"clave pública\"\n",
    "\n",
    "    mensaje_cifrado = cifrado_cesar(mensaje_original, desplazamiento)\n",
    "    print(\"Mensaje cifrado:\", mensaje_cifrado)\n",
    "\n",
    "    mensaje_descifrado = descifrado_cesar(mensaje_cifrado, desplazamiento)\n",
    "    print(\"Mensaje descifrado:\", mensaje_descifrado)\n",
    "\n",
    "if __name__ == \"__main__\":\n",
    "    demostracion()\n"
   ]
  },
  {
   "cell_type": "markdown",
   "id": "8ba252d5",
   "metadata": {},
   "source": [
    "#### Ejercicios adicionales para extender el uso\n",
    "\n",
    "- Amplía las funciones para que trabajen con todos los caracteres ASCII imprimibles, no sólo las letras.\n",
    "- Considera explorar algoritmos como RSA para un ejemplo real de uso de criptografía con clave pública y privada.\n",
    "- Analiza la seguridad del cifrado César y cómo se podría mejorar usando una técnica más compleja, como el cifrado Vigenère."
   ]
  },
  {
   "cell_type": "code",
   "execution_count": null,
   "id": "0afc0e1b",
   "metadata": {},
   "outputs": [],
   "source": [
    "### Tus respuestas"
   ]
  },
  {
   "cell_type": "markdown",
   "id": "69c8aa51",
   "metadata": {},
   "source": [
    "#### Respuesta 4\n",
    "\n",
    "Para abordar este problema, implementaremos un conjunto de funciones que simulan el proceso de transmisión de datos a través de las diferentes capas del modelo OSI (Open Systems Interconnection). Cada función representará una capa del modelo y demostrará cómo los datos se encapsulan y desencapsulan a medida que pasan de una capa a otra.\n",
    "\n",
    "El modelo OSI tiene siete capas:\n",
    "\n",
    "- Capa de aplicación\n",
    "- Capa de presentación\n",
    "- Capa de sesión\n",
    "- Capa de transporte\n",
    "- Capa de red\n",
    "- Capa de enlace de datos\n",
    "- Capa física\n",
    "\n",
    "#### Paso 1: Definir las funciones de cada capa\n",
    "\n",
    "Vamos a definir una función para cada capa, que recibirá los datos de la capa superior, añadirá su propia \"cabecera\" (simulando la encapsulación), y luego pasará los datos a la siguiente capa."
   ]
  },
  {
   "cell_type": "code",
   "execution_count": null,
   "id": "00f00801",
   "metadata": {},
   "outputs": [],
   "source": [
    "def capa_aplicacion(datos):\n",
    "    datos_encapsulados = f\"APLICACION({datos})\"\n",
    "    print(\"Aplicación envía:\", datos_encapsulados)\n",
    "    return capa_presentacion(datos_encapsulados)\n",
    "\n",
    "def capa_presentacion(datos):\n",
    "    datos_encapsulados = f\"PRESENTACION({datos})\"\n",
    "    print(\"Presentación envía:\", datos_encapsulados)\n",
    "    return capa_sesion(datos_encapsulados)\n",
    "\n",
    "def capa_sesion(datos):\n",
    "    datos_encapsulados = f\"SESION({datos})\"\n",
    "    print(\"Sesión envía:\", datos_encapsulados)\n",
    "    return capa_transporte(datos_encapsulados)\n",
    "\n",
    "def capa_transporte(datos):\n",
    "    datos_encapsulados = f\"TRANSPORTE({datos})\"\n",
    "    print(\"Transporte envía:\", datos_encapsulados)\n",
    "    return capa_red(datos_encapsulados)\n",
    "\n",
    "def capa_red(datos):\n",
    "    datos_encapsulados = f\"RED({datos})\"\n",
    "    print(\"Red envía:\", datos_encapsulados)\n",
    "    return capa_enlace(datos_encapsulados)\n",
    "\n",
    "def capa_enlace(datos):\n",
    "    datos_encapsulados = f\"ENLACE({datos})\"\n",
    "    print(\"Enlace envía:\", datos_encapsulados)\n",
    "    return capa_fisica(datos_encapsulados)\n",
    "\n",
    "def capa_fisica(datos):\n",
    "    datos_encapsulados = f\"FISICA({datos})\"\n",
    "    print(\"Física envía:\", datos_encapsulados)\n",
    "    return datos_encapsulados\n"
   ]
  },
  {
   "cell_type": "markdown",
   "id": "d523981a",
   "metadata": {},
   "source": [
    "Paso 2: Simular el proceso de desencapsulación\n",
    "\n",
    "Ahora necesitamos un conjunto de funciones para desencapsular los datos, que se activará en el punto de recepción."
   ]
  },
  {
   "cell_type": "code",
   "execution_count": null,
   "id": "6d9d7519",
   "metadata": {},
   "outputs": [],
   "source": [
    "def desencapsular_fisica(datos):\n",
    "    return datos[7:-1]\n",
    "\n",
    "def desencapsular_enlace(datos):\n",
    "    return desencapsular_fisica(datos[6:-1])\n",
    "\n",
    "def desencapsular_red(datos):\n",
    "    return desencapsular_enlace(datos[4:-1])\n",
    "\n",
    "def desencapsular_transporte(datos):\n",
    "    return desencapsular_red(datos[11:-1])\n",
    "\n",
    "def desencapsular_sesion(datos):\n",
    "    return desencapsular_transporte(datos[7:-1])\n",
    "\n",
    "def desencapsular_presentacion(datos):\n",
    "    return desencapsular_sesion(datos[14:-1])\n",
    "\n",
    "def desencapsular_aplicacion(datos):\n",
    "    return desencapsular_presentacion(datos[11:-1])\n"
   ]
  },
  {
   "cell_type": "markdown",
   "id": "596e82d6",
   "metadata": {},
   "source": [
    "Paso 3: Demostración del proceso completo"
   ]
  },
  {
   "cell_type": "code",
   "execution_count": null,
   "id": "6ac1d327",
   "metadata": {},
   "outputs": [],
   "source": [
    "def demostracion():\n",
    "    mensaje_original = \"Hola Mundo\"\n",
    "    print(\"Mensaje original:\", mensaje_original)\n",
    "    \n",
    "    datos_encapsulados = capa_aplicacion(mensaje_original)\n",
    "    print(\"Datos encapsulados:\", datos_encapsulados)\n",
    "    \n",
    "    datos_desencapsulados = desencapsular_aplicacion(datos_encapsulados)\n",
    "    print(\"Datos desencapsulados:\", datos_desencapsulados)\n",
    "\n",
    "if __name__ == \"__main__\":\n",
    "    demostracion()\n"
   ]
  },
  {
   "cell_type": "markdown",
   "id": "e0016f32",
   "metadata": {},
   "source": [
    "#### Ejercicios adicionales para extender el uso\n",
    "\n",
    "- Implementa un mecanismo para manejar errores en cada capa.\n",
    "- Simula más detalles de cada capa, por ejemplo, manejar la segmentación en la capa de transporte o las direcciones IP en la capa de red.\n",
    "- Utiliza estas funciones en combinación con sockets para enviar y recibir datos a través de una red real, manteniendo la simulación de encapsulación y desencapsulación.\n"
   ]
  },
  {
   "cell_type": "code",
   "execution_count": null,
   "id": "21454b3e",
   "metadata": {},
   "outputs": [],
   "source": [
    "### Tus respuestas"
   ]
  },
  {
   "cell_type": "markdown",
   "id": "eb906221",
   "metadata": {},
   "source": [
    "#### Respuesta 5\n",
    "\n",
    "Para abordar este problema, desarrollaremos una función en Python que genere representaciones de dos tipos de topologías de red comunes: la topología en estrella y la topología en malla. Utilizaremos diccionarios para representar la estructura de la red, ya que nos permiten asociar dispositivos (nodos) con sus conexiones de manera clara y estructurada. Además, comentaremos cómo estos tipos pueden ser aplicados en escenarios de LAN (Local Area Network) y WAN (Wide Area Network).\n",
    "\n",
    "Paso 1: Definir la función para la topología en estrella\n",
    "\n",
    "En una topología en estrella, todos los nodos están conectados a un nodo central, y solo a este. El nodo central funciona como un punto de conexión y de comunicación para los otros nodos."
   ]
  },
  {
   "cell_type": "code",
   "execution_count": null,
   "id": "555bb823",
   "metadata": {},
   "outputs": [],
   "source": [
    "def crear_topologia_estrella(centro, nodos):\n",
    "    \"\"\"Crea una topología de red en estrella con un nodo central y nodos periféricos.\"\"\"\n",
    "    red = {}\n",
    "    red[centro] = nodos.copy()  # El nodo central se conecta a todos los demás nodos.\n",
    "    for nodo in nodos:\n",
    "        red[nodo] = [centro]  # Cada nodo periférico se conecta sólo al nodo central.\n",
    "    return red\n"
   ]
  },
  {
   "cell_type": "markdown",
   "id": "86128cf2",
   "metadata": {},
   "source": [
    "Paso 2: Definir la función para la topología en malla\n",
    "\n",
    "En una topología en malla, cada nodo está conectado a todos los demás nodos. Esto proporciona múltiples caminos para que la información fluya entre nodos, lo que puede ser útil en WAN donde la redundancia es crítica."
   ]
  },
  {
   "cell_type": "code",
   "execution_count": null,
   "id": "b31f3e62",
   "metadata": {},
   "outputs": [],
   "source": [
    "def crear_topologia_malla(nodos):\n",
    "    \"\"\"Crea una topología de red en malla con cada nodo conectado a todos los demás.\"\"\"\n",
    "    red = {}\n",
    "    for nodo in nodos:\n",
    "        red[nodo] = [n for n in nodos if n != nodo]  # Cada nodo se conecta con todos los demás, excepto consigo mismo.\n",
    "    return red\n"
   ]
  },
  {
   "cell_type": "markdown",
   "id": "4817a469",
   "metadata": {},
   "source": [
    "Paso 3: Demostración de las funciones\n",
    "\n",
    "Para demostrar el uso de estas funciones, crearemos una red en estrella y una red en malla con ejemplos simples de nodos."
   ]
  },
  {
   "cell_type": "code",
   "execution_count": null,
   "id": "0fbe8238",
   "metadata": {},
   "outputs": [],
   "source": [
    "def demostrar_topologias():\n",
    "    nodos_estrella = [\"Nodo1\", \"Nodo2\", \"Nodo3\", \"Nodo4\"]\n",
    "    red_estrella = crear_topologia_estrella(\"Centro\", nodos_estrella)\n",
    "    print(\"Topología en Estrella:\", red_estrella)\n",
    "\n",
    "    nodos_malla = [\"NodoA\", \"NodoB\", \"NodoC\", \"NodoD\"]\n",
    "    red_malla = crear_topologia_malla(nodos_malla)\n",
    "    print(\"Topología en Malla:\", red_malla)\n",
    "\n",
    "if __name__ == \"__main__\":\n",
    "    demostrar_topologias()\n"
   ]
  },
  {
   "cell_type": "markdown",
   "id": "80ef5934",
   "metadata": {},
   "source": [
    "#### Ejercicios adicionales \n",
    "\n",
    "- Integra una biblioteca de visualización como matplotlib o networkx para generar gráficos visuales de las topologías creadas.\n",
    "- Desarrolla funciones que simulen el envío de mensajes a través de la red, aplicando algoritmos de enrutamiento adecuados a cada topología.\n",
    "- Explora y añade funciones para crear otras topologías, como la topología de anillo o la topología de árbol.\n"
   ]
  },
  {
   "cell_type": "code",
   "execution_count": null,
   "id": "e8b4af11",
   "metadata": {},
   "outputs": [],
   "source": [
    "## Tus respuestas"
   ]
  },
  {
   "cell_type": "markdown",
   "id": "d21a077b",
   "metadata": {},
   "source": [
    "#### Respuesta 6\n",
    "\n",
    "Para simular el envío de un mensaje a múltiples destinatarios utilizando el concepto de multicast, implementaremos una función que administre una lista de suscripción de nodos y permita enviar mensajes a todos los nodos suscritos. Los nodos en esta simulación serán representados por funciones que reciben y procesan el mensaje.\n",
    "\n",
    "Paso 1: Definir la estructura para manejar suscripciones\n",
    "\n",
    "Utilizaremos un diccionario para mantener un registro de los nodos suscritos a diferentes grupos de multicast. Cada grupo puede tener varios nodos suscritos que recibirán mensajes enviados a ese grupo."
   ]
  },
  {
   "cell_type": "code",
   "execution_count": null,
   "id": "0f844f1f",
   "metadata": {},
   "outputs": [],
   "source": [
    "# Diccionario para mantener los nodos suscritos por grupo\n",
    "suscripciones_multicast = {}\n",
    "\n",
    "def suscribir_a_grupo(grupo, nodo):\n",
    "    \"\"\"Suscribe un nodo a un grupo multicast.\"\"\"\n",
    "    if grupo not in suscripciones_multicast:\n",
    "        suscripciones_multicast[grupo] = []\n",
    "    suscripciones_multicast[grupo].append(nodo)\n",
    "\n",
    "def desuscribir_de_grupo(grupo, nodo):\n",
    "    \"\"\"Elimina la suscripción de un nodo a un grupo multicast.\"\"\"\n",
    "    if grupo in suscripciones_multicast:\n",
    "        suscripciones_multicast[grupo].remove(nodo)\n",
    "        if not suscripciones_multicast[grupo]:  # Si la lista está vacía, elimine el grupo\n",
    "            del suscripciones_multicast[grupo]\n"
   ]
  },
  {
   "cell_type": "markdown",
   "id": "869d8216",
   "metadata": {},
   "source": [
    "Paso 2: Implementar la función de envío multicast\n",
    "\n",
    "La función de envío recibirá un mensaje y un grupo multicast. Enviará el mensaje a todos los nodos suscritos a ese grupo."
   ]
  },
  {
   "cell_type": "code",
   "execution_count": null,
   "id": "fbff9876",
   "metadata": {},
   "outputs": [],
   "source": [
    "def enviar_mensaje_multicast(grupo, mensaje):\n",
    "    \"\"\"Envía un mensaje a todos los nodos suscritos en un grupo multicast.\"\"\"\n",
    "    nodos = suscripciones_multicast.get(grupo, [])\n",
    "    for nodo in nodos:\n",
    "        nodo(mensaje)\n"
   ]
  },
  {
   "cell_type": "markdown",
   "id": "cc479a5d",
   "metadata": {},
   "source": [
    "Paso 3: Crear nodos de ejemplo\n",
    "    \n",
    "Vamos a definir algunas funciones que actuarán como nodos en nuestra simulación de red multicast."
   ]
  },
  {
   "cell_type": "code",
   "execution_count": null,
   "id": "2f9f3159",
   "metadata": {},
   "outputs": [],
   "source": [
    "def nodo_a(mensaje):\n",
    "    print(f\"Nodo A recibió el mensaje: {mensaje}\")\n",
    "\n",
    "def nodo_b(mensaje):\n",
    "    print(f\"Nodo B recibió el mensaje: {mensaje}\")\n",
    "\n",
    "def nodo_c(mensaje):\n",
    "    print(f\"Nodo C recibió el mensaje: {mensaje}\")\n"
   ]
  },
  {
   "cell_type": "markdown",
   "id": "e8446d96",
   "metadata": {},
   "source": [
    "Paso 4: Demostración del sistema multicast"
   ]
  },
  {
   "cell_type": "code",
   "execution_count": null,
   "id": "0e517870",
   "metadata": {},
   "outputs": [],
   "source": [
    "def demostracion():\n",
    "    # Suscribir nodos a los grupos\n",
    "    suscribir_a_grupo('Grupo1', nodo_a)\n",
    "    suscribir_a_grupo('Grupo1', nodo_b)\n",
    "    suscribir_a_grupo('Grupo2', nodo_c)\n",
    "    \n",
    "    # Enviar mensajes\n",
    "    print(\"Enviando mensaje al Grupo1:\")\n",
    "    enviar_mensaje_multicast('Grupo1', \"Hola Grupo1\")\n",
    "    \n",
    "    print(\"\\nEnviando mensaje al Grupo2:\")\n",
    "    enviar_mensaje_multicast('Grupo2', \"Hola Grupo2\")\n",
    "\n",
    "if __name__ == \"__main__\":\n",
    "    demostracion()\n"
   ]
  },
  {
   "cell_type": "markdown",
   "id": "a445d573",
   "metadata": {},
   "source": [
    "#### Ejercicios adicionales \n",
    "\n",
    "-  Permite la creación y eliminación dinámica de grupos multicast.\n",
    "- Implementa medidas de seguridad para que sólo nodos autorizados puedan suscribirse o publicar en ciertos grupos.\n",
    "-  Usa herramientas de visualización para mostrar la estructura de la red y la distribución de mensajes en tiempo real."
   ]
  },
  {
   "cell_type": "markdown",
   "id": "307ab99c",
   "metadata": {},
   "source": [
    "Observación: Cuando menciono \"Implementa medidas de seguridad para que solo nodos autorizados puedan suscribirse o publicar en ciertos grupos\", me refiero a agregar capas de autenticación y autorización al sistema de multicast. Aquí hay algunas ideas específicas sobre cómo se podría implementar esto en la simulación:\n",
    "\n",
    "1. Autenticación:\n",
    "Identificación de nodos: Cada nodo debe tener una forma de identificarse, como un identificador único o un token de autenticación, antes de que pueda suscribirse a un grupo o enviar mensajes.\n",
    "Registro de nodos: Antes de que un nodo pueda interactuar con el sistema, debe registrarse y obtener credenciales válidas, como una clave de acceso.\n",
    "2. Autorización:\n",
    "Control de acceso basado en roles: Define roles diferentes para los nodos, como \"editor\", \"lector\", y \"administrador\". Cada rol tendría diferentes permisos. Por ejemplo, solo los \"editores\" y \"administradores\" podrían publicar mensajes, mientras que los \"lectores\" solo podrían recibirlos.\n",
    "Listas de control de acceso (ACL): Utiliza ACL para gestionar los permisos de cada grupo. Por ejemplo, solo ciertos nodos (o roles) tienen permiso para suscribirse a un grupo específico o enviar mensajes a ese grupo.\n",
    "3. Implementación de una verificación de permisos:\n",
    "Aquí hay un ejemplo básico de cómo podrías modificar el sistema para incluir verificación de permisos:"
   ]
  },
  {
   "cell_type": "code",
   "execution_count": null,
   "id": "8c9eff3f",
   "metadata": {},
   "outputs": [],
   "source": [
    "# Diccionario para mantener las credenciales y roles de los nodos\n",
    "credenciales_nodos = {\n",
    "    'NodoA': {'token': 'token_a', 'roles': ['editor']},\n",
    "    'NodoB': {'token': 'token_b', 'roles': ['lector']},\n",
    "    'NodoC': {'token': 'token_c', 'roles': ['editor', 'administrador']}\n",
    "}\n",
    "\n",
    "# Modificación de la función de suscripción para verificar credenciales\n",
    "def suscribir_a_grupo(grupo, nodo, token):\n",
    "    credencial = credenciales_nodos.get(nodo)\n",
    "    if credencial and credencial['token'] == token and 'lector' in credencial['roles']:\n",
    "        if grupo not in suscripciones_multicast:\n",
    "            suscripciones_multicast[grupo] = []\n",
    "        suscripciones_multicast[grupo].append(nodo)\n",
    "    else:\n",
    "        print(f\"Acceso denegado para {nodo} en {grupo}\")\n",
    "\n",
    "# Modificación de la función de envío para verificar roles de editor\n",
    "def enviar_mensaje_multicast(grupo, mensaje, nodo):\n",
    "    credencial = credenciales_nodos.get(nodo)\n",
    "    if credencial and 'editor' in credencial['roles']:\n",
    "        nodos = suscripciones_multicast.get(grupo, [])\n",
    "        for n in nodos:\n",
    "            n(mensaje)\n",
    "    else:\n",
    "        print(f\"Acceso denegado para publicar en {grupo} para {nodo}\")\n"
   ]
  },
  {
   "cell_type": "markdown",
   "id": "c4d05171",
   "metadata": {},
   "source": [
    "4. Consideraciones de seguridad:\n",
    "\n",
    "- Seguridad en la transmisión: Considera la posibilidad de encriptar los mensajes para proteger la integridad y la confidencialidad de los datos durante la transmisión.\n",
    "- Auditoría y registro: Mantén registros de quién se suscribe y quién envía mensajes en los grupos para auditorías de seguridad."
   ]
  },
  {
   "cell_type": "code",
   "execution_count": null,
   "id": "cf2285d8",
   "metadata": {},
   "outputs": [],
   "source": [
    "## Tu respuesta"
   ]
  },
  {
   "cell_type": "markdown",
   "id": "694409a9",
   "metadata": {},
   "source": [
    "#### Respuesta 7\n",
    "\n",
    "Para abordar el problema de simular un caché de red simple, desarrollaremos una función que utilice diccionarios para almacenar y recuperar datos. Este tipo de caché puede ser muy útil para mejorar la eficiencia de las aplicaciones al reducir la cantidad de operaciones de red necesarias, especialmente cuando se trata de datos que se solicitan frecuentemente.\n",
    "\n",
    "Paso 1: Crear la estructura del caché\n",
    "\n",
    "Usaremos un diccionario para simular el caché. Las claves del diccionario serán las solicitudes o identificadores únicos de los datos, y los valores serán los datos almacenados."
   ]
  },
  {
   "cell_type": "code",
   "execution_count": null,
   "id": "f1775130",
   "metadata": {},
   "outputs": [],
   "source": [
    "cache_de_red = {}\n",
    "\n",
    "def obtener_datos_desde_cache(identificador):\n",
    "    \"\"\"Obtiene datos del caché si están disponibles.\"\"\"\n",
    "    if identificador in cache_de_red:\n",
    "        print(f\"Datos obtenidos desde el caché para: {identificador}\")\n",
    "        return cache_de_red[identificador]\n",
    "    else:\n",
    "        print(f\"No se encontraron datos en el caché para: {identificador}\")\n",
    "        return None\n"
   ]
  },
  {
   "cell_type": "markdown",
   "id": "2d33b041",
   "metadata": {},
   "source": [
    "Paso 2: Simular la obtención de datos y almacenarlos en el caché\n",
    "\n",
    "Para simular la obtención de datos y su almacenamiento en el caché, crearemos una función que simule una operación de red (como una solicitud a una base de datos o a una API) y almacene el resultado en el caché para usos futuros."
   ]
  },
  {
   "cell_type": "code",
   "execution_count": null,
   "id": "e1b3603b",
   "metadata": {},
   "outputs": [],
   "source": [
    "def obtener_datos_desde_servidor(identificador):\n",
    "    \"\"\"Simula una operación de red para obtener datos.\"\"\"\n",
    "    print(f\"Obteniendo datos desde el servidor para: {identificador}\")\n",
    "    # Simulamos una operación de red que obtiene datos\n",
    "    datos = f\"Datos para {identificador}\"\n",
    "    cache_de_red[identificador] = datos\n",
    "    return datos\n",
    "\n",
    "def obtener_datos(identificador):\n",
    "    \"\"\"Intenta obtener datos desde el caché, y si no están disponibles, los obtiene desde el servidor.\"\"\"\n",
    "    datos = obtener_datos_desde_cache(identificador)\n",
    "    if datos is None:\n",
    "        datos = obtener_datos_desde_servidor(identificador)\n",
    "    return datos\n"
   ]
  },
  {
   "cell_type": "markdown",
   "id": "2451e46a",
   "metadata": {},
   "source": [
    "Paso 3: Demostrar la mejora en eficiencia\n",
    "\n",
    "Para demostrar cómo el caché puede mejorar la eficiencia, realizaremos múltiples solicitudes al mismo identificador y observaremos cómo las solicitudes repetidas evitan operaciones de red adicionales."
   ]
  },
  {
   "cell_type": "code",
   "execution_count": null,
   "id": "f26a2039",
   "metadata": {},
   "outputs": [],
   "source": [
    "def demostrar_eficiencia():\n",
    "    # Primera solicitud: los datos se obtendrán desde el servidor\n",
    "    print(obtener_datos(\"12345\"))\n",
    "    \n",
    "    # Segunda solicitud: los datos se obtendrán desde el caché\n",
    "    print(obtener_datos(\"12345\"))\n",
    "    \n",
    "    # Tercera solicitud: los datos se obtendrán desde el caché\n",
    "    print(obtener_datos(\"12345\"))\n",
    "\n",
    "if __name__ == \"__main__\":\n",
    "    demostrar_eficiencia()\n"
   ]
  },
  {
   "cell_type": "markdown",
   "id": "9e426bee",
   "metadata": {},
   "source": [
    "#### Ejercicios adicionales \n",
    "\n",
    "- Política de expiración: Implementa una política de expiración para los datos en el caché, donde los datos se eliminan después de un cierto tiempo.\n",
    "- Límite de tamaño: Establece un límite en el número de entradas que puede contener el caché para evitar el uso excesivo de memoria.\n",
    "- Caché distribuido: Explora cómo se podría implementar un caché distribuido que funcione en múltiples nodos o servidores para mejorar la escalabilidad y la redundancia."
   ]
  },
  {
   "cell_type": "markdown",
   "id": "44ac5688",
   "metadata": {},
   "source": [
    "Observaciones: Una política de expiración en el contexto de un caché de red se refiere a un conjunto de reglas que determinan cuánto tiempo se deben almacenar los datos en el caché antes de ser eliminados o invalidados. El objetivo principal es asegurarse de que los datos en el caché sigan siendo relevantes y no consuman recursos innecesariamente. Aquí están algunos de los aspectos clave:\n",
    "\n",
    "1. Expiración basada en el tiempo:\n",
    "La forma más común de política de expiración es la expiración basada en el tiempo, donde cada entrada en el caché tiene una marca de tiempo de cuando fue almacenada y un tiempo de vida útil predeterminado (TTL, por sus siglas en inglés Time To Live). Una vez que el TTL de una entrada ha expirado, la entrada se considera obsoleta y se elimina del caché. Esto es útil para datos que cambian con frecuencia o que deben ser actualizados regularmente.\n",
    "\n",
    "2. Expiración basada en eventos:\n",
    "Otra política de expiración es la expiración basada en eventos, donde las entradas del caché se invalidan o actualizan en respuesta a ciertos eventos. Por ejemplo, si un usuario actualiza su perfil en una aplicación, el caché que almacena la información de perfil del usuario podría ser invalidado para forzar una actualización desde el servidor principal la próxima vez que se necesite.\n",
    "\n",
    "3. Expiración basada en LRU (Least Recently Used):\n",
    "En algunos sistemas de caché, se utiliza un algoritmo LRU para eliminar entradas basándose en su uso. Las entradas que no han sido accedidas recientemente son las primeras en ser eliminadas cuando se necesita hacer espacio para nuevos datos. Esto ayuda a asegurar que el caché contenga sólo los datos más relevantes y frecuentemente accesados.\n",
    "\n",
    "Por ejemplo básico de cómo podrías implementar una política de expiración basada en el tiempo en Python es así:"
   ]
  },
  {
   "cell_type": "code",
   "execution_count": null,
   "id": "2ab5cd58",
   "metadata": {},
   "outputs": [],
   "source": [
    "import time\n",
    "\n",
    "cache_de_red = {}\n",
    "\n",
    "def almacenar_en_cache(identificador, datos, ttl=300):\n",
    "    \"\"\" Almacena datos en el caché con un tiempo de vida útil (TTL). \"\"\"\n",
    "    expiracion = time.time() + ttl  # Establece el tiempo de expiración como el tiempo actual más el TTL\n",
    "    cache_de_red[identificador] = (datos, expiracion)\n",
    "\n",
    "def obtener_datos_desde_cache(identificador):\n",
    "    \"\"\" Obtiene datos del caché si están disponibles y no han expirado. \"\"\"\n",
    "    if identificador in cache_de_red:\n",
    "        datos, expiracion = cache_de_red[identificador]\n",
    "        if time.time() < expiracion:\n",
    "            print(f\"Datos obtenidos desde el caché para: {identificador}\")\n",
    "            return datos\n",
    "        else:\n",
    "            print(f\"Datos en el caché expirados para: {identificador}\")\n",
    "            del cache_de_red[identificador]  # Elimina datos expirados\n",
    "    return None\n"
   ]
  },
  {
   "cell_type": "markdown",
   "id": "8f7350f8",
   "metadata": {},
   "source": [
    "Un caché distribuido se refiere a un sistema de caché que funciona a través de múltiples nodos de servidor, a menudo en diferentes ubicaciones geográficas. Esta distribución permite que el caché maneje más datos y más solicitudes de los que podría un único servidor o instancia de caché. Es especialmente útil en entornos donde la carga de acceso a los datos es alta y se requiere alta disponibilidad y escalabilidad.\n",
    "\n",
    "Características clave de un caché distribuido:\n",
    "\n",
    "- Escalabilidad: Al distribuir el caché a través de varios nodos, el sistema puede manejar un mayor volumen de solicitudes simultáneamente. Esto es crucial para aplicaciones de alto rendimiento que necesitan servir una gran cantidad de usuarios o procesar grandes volúmenes de datos rápidamente.\n",
    "- Redundancia y alta disponibilidad: La distribución del caché entre múltiples nodos también proporciona redundancia. Si un nodo falla, otros pueden tomar su lugar, asegurando que los datos sigan siendo accesibles y que el sistema permanezca operativo.\n",
    "- Reducción de la latencia: Un caché distribuido puede estar geográficamente más cerca de los usuarios, lo que reduce la latencia en el acceso a los datos. Por ejemplo, un usuario en Europa accediendo a datos que también están cachéados en un servidor europeo experimentará tiempos de respuesta más rápidos comparado con acceder a datos almacenados solo en servidores en EE. UU.\n",
    "- Consistencia de los datos: Manejar la consistencia entre múltiples caches es uno de los desafíos en cachés distribuidos, especialmente en entornos donde los datos cambian frecuentemente. Se utilizan diferentes estrategias, como la coherencia eventual o la invalidación activa de caché, para asegurar que todos los nodos del caché tengan los datos más actualizados posible.\n",
    "\n",
    "Ejemplo de tecnologías de caché distribuido:\n",
    "- Redis: A menudo utilizado como un sistema de caché distribuido, Redis permite la replicación entre nodos y puede ser configurado para operar en un modo distribuido, donde diferentes piezas de datos residen en diferentes nodos.\n",
    "- Memcached: Popular en el almacenamiento de caché de objetos, Memcached puede ser configurado en un entorno distribuido para aumentar el volumen de datos que puede manejar y para mejorar la resistencia y la velocidad de acceso.\n",
    "- Apache Ignite: Es una base de datos distribuida y un sistema de caché que soporta transacciones, persistencia y procesamiento en memoria a gran velocidad.\n",
    "Implementación básica de un caché distribuido:\n",
    "\n",
    "A nivel de concepto, la implementación de un caché distribuido podría involucrar la partición de datos entre varios nodos y la implementación de un algoritmo de consistencia."
   ]
  },
  {
   "cell_type": "code",
   "execution_count": null,
   "id": "a460cbfa",
   "metadata": {},
   "outputs": [],
   "source": [
    "class NodoCache:\n",
    "    def __init__(self):\n",
    "        self.cache = {}\n",
    "\n",
    "    def almacenar(self, clave, valor):\n",
    "        self.cache[clave] = valor\n",
    "\n",
    "    def recuperar(self, clave):\n",
    "        return self.cache.get(clave)\n",
    "\n",
    "# Creación de nodos de caché distribuidos\n",
    "nodos = [NodoCache() for _ in range(3)]\n",
    "\n",
    "# Función de hash simple para determinar a qué nodo va cada clave\n",
    "def hash_clave(clave):\n",
    "    return hash(clave) % len(nodos)\n",
    "\n",
    "# Almacenamiento distribuido\n",
    "def almacenar_en_cache(clave, valor):\n",
    "    nodo_idx = hash_clave(clave)\n",
    "    nodos[nodo_idx].almacenar(clave, valor)\n",
    "\n",
    "# Recuperación distribuida\n",
    "def recuperar_de_cache(clave):\n",
    "    nodo_idx = hash_clave(clave)\n",
    "    return nodos[nodo_idx].recuperar(clave)\n"
   ]
  },
  {
   "cell_type": "markdown",
   "id": "ac15c6d5",
   "metadata": {},
   "source": [
    "#### Respuesta 9\n",
    "Para simular el funcionamiento básico de ARPANET y el enrutamiento de mensajes entre nodos utilizando un protocolo histórico simplificado, podemos crear una función que modele los nodos de la red y la comunicación entre ellos"
   ]
  },
  {
   "cell_type": "code",
   "execution_count": null,
   "id": "8900c2be",
   "metadata": {},
   "outputs": [],
   "source": [
    "import random\n",
    "\n",
    "class ARPARouter:\n",
    "    def __init__(self, name):\n",
    "        self.name = name\n",
    "        self.neighbors = []\n",
    "\n",
    "    def add_neighbor(self, neighbor):\n",
    "        self.neighbors.append(neighbor)\n",
    "\n",
    "    def route_message(self, message):\n",
    "        # Simula el enrutamiento del mensaje hacia un vecino aleatorio\n",
    "        if self.neighbors:\n",
    "            neighbor = random.choice(self.neighbors)\n",
    "            print(f\"Mensaje enviado desde {self.name} a {neighbor.name}: {message}\")\n",
    "            neighbor.receive_message(message)\n",
    "        else:\n",
    "            print(f\"No hay vecinos disponibles para {self.name}. Mensaje perdido.\")\n",
    "\n",
    "    def receive_message(self, message):\n",
    "        print(f\"Mensaje recibido en {self.name}: {message}\")\n",
    "\n",
    "def simulate_ARPANET(nodes, num_messages):\n",
    "    \"\"\"\n",
    "    Simula el funcionamiento básico de ARPANET.\n",
    "\n",
    "    Args:\n",
    "    - nodes: Lista de nodos de la red.\n",
    "    - num_messages: Número de mensajes a simular.\n",
    "    \"\"\"\n",
    "    print(\"Iniciando simulación de ARPANET...\")\n",
    "    for i in range(num_messages):\n",
    "        sender = random.choice(nodes)\n",
    "        message = f\"Mensaje {i+1}\"\n",
    "        sender.route_message(message)\n",
    "        print()\n",
    "\n",
    "# Crear nodos de la red ARPANET\n",
    "node_A = ARPARouter(\"Node A\")\n",
    "node_B = ARPARouter(\"Node B\")\n",
    "node_C = ARPARouter(\"Node C\")\n",
    "\n",
    "# Configurar vecinos de cada nodo\n",
    "node_A.add_neighbor(node_B)\n",
    "node_B.add_neighbor(node_A)\n",
    "node_B.add_neighbor(node_C)\n",
    "node_C.add_neighbor(node_B)\n",
    "\n",
    "# Lista de nodos de la red\n",
    "nodes = [node_A, node_B, node_C]\n",
    "\n",
    "# Simular el funcionamiento de ARPANET\n",
    "simulate_ARPANET(nodes, 5)\n"
   ]
  },
  {
   "cell_type": "markdown",
   "id": "f1c94a59",
   "metadata": {},
   "source": [
    "En este código, creamos la clase ARPARouter para representar los nodos de la red ARPANET. Cada nodo tiene un nombre y una lista de vecinos. La función add_neighbor agrega un vecino al nodo, y la función route_message simula el enrutamiento del mensaje hacia un vecino aleatorio. La función simulate_ARPANET ejecuta una simulación de la red ARPANET enviando un número dado de mensajes entre nodos aleatorios.\n",
    "\n"
   ]
  },
  {
   "cell_type": "markdown",
   "id": "128fdc98",
   "metadata": {},
   "source": [
    "#### Ejercicios adicionales\n",
    "\n",
    "- Modifica la clase ARPARouter para que el enrutamiento de mensajes tenga en cuenta el peso de cada conexión entre nodos. Agrega un atributo de peso a cada conexión y modifica el método route_message para que elija un vecino de manera ponderada según estos pesos.\n",
    "\n",
    "- Desarrolla una clase que represente un protocolo de enrutamiento específico (por ejemplo, el algoritmo de enrutamiento de distancia vectorial) y úsalo para determinar la ruta óptima para enviar un mensaje desde un nodo de origen a un nodo de destino en la red ARPANET.\n",
    "\n",
    "- Modifica el método route_message para que maneje situaciones en las que no se pueda encontrar una ruta válida desde el nodo de origen al nodo de destino. Por ejemplo, puedes implementar una estrategia de reintentos o un mecanismo de almacenamiento en búfer para los mensajes perdidos.\n",
    "\n",
    "- Crea una topología de red más grande y compleja con múltiples nodos y conexiones entre ellos. Luego, realiza simulaciones para observar cómo se comporta la red en diferentes escenarios.\n",
    "\n",
    "- Modifica la clase ARPARouter para que pueda registrar todos los mensajes enviados y recibidos, junto con la hora de envío o recepción. Esto puede ser útil para realizar análisis de tráfico en la red."
   ]
  },
  {
   "cell_type": "code",
   "execution_count": null,
   "id": "3b077290",
   "metadata": {},
   "outputs": [],
   "source": [
    "## Tus respuestas"
   ]
  },
  {
   "cell_type": "markdown",
   "id": "c971ceed",
   "metadata": {},
   "source": [
    "#### Respuesta 11\n",
    "\n",
    "Para abordar el problema de simular el proceso de \"flooding\" en un switch Ethernet, diseñaremos una función que gestione una tabla MAC (Media Access Control) y realice la distribución de frames (tramas) Ethernet. Cuando un switch recibe un frame y no encuentra la dirección MAC de destino en su tabla MAC, utiliza el proceso de flooding, que consiste en enviar el frame a todos los puertos excepto por el que recibió el frame.\n",
    "\n",
    "Paso 1: Definir la estructura de la tabla MAC\n",
    "    \n",
    "Usaremos un diccionario de Python para simular la tabla MAC del switch, donde las claves serán las direcciones MAC y los valores serán los puertos asociados a esas direcciones.\n",
    "\n"
   ]
  },
  {
   "cell_type": "code",
   "execution_count": null,
   "id": "1be6cb8d",
   "metadata": {},
   "outputs": [],
   "source": [
    "tabla_mac = {}\n",
    "\n",
    "def agregar_a_tabla_mac(direccion_mac, puerto):\n",
    "    \"\"\"Agrega o actualiza la entrada de la dirección MAC en la tabla con su puerto correspondiente.\"\"\"\n",
    "    tabla_mac[direccion_mac] = puerto\n",
    "    print(f\"Dirección MAC {direccion_mac} asociada al puerto {puerto}.\")\n"
   ]
  },
  {
   "cell_type": "markdown",
   "id": "b58a9ee5",
   "metadata": {},
   "source": [
    "Paso 2: Implementar la función de flooding\n",
    "\n",
    "La función de flooding enviará el frame a todos los puertos excepto al puerto de origen si la dirección de destino no se encuentra en la tabla MAC."
   ]
  },
  {
   "cell_type": "code",
   "execution_count": null,
   "id": "f6ed4204",
   "metadata": {},
   "outputs": [],
   "source": [
    "def flooding(frame, puerto_origen, puertos):\n",
    "    \"\"\"Envía el frame a todos los puertos excepto al puerto de origen.\"\"\"\n",
    "    for puerto in puertos:\n",
    "        if puerto != puerto_origen:\n",
    "            print(f\"Enviando frame desde el puerto {puerto_origen} a {puerto}\")\n"
   ]
  },
  {
   "cell_type": "markdown",
   "id": "217157b1",
   "metadata": {},
   "source": [
    "Paso 3: Simular la recepción de frames\n",
    "\n",
    "Cuando un frame es recibido por el switch, esta función primero verificará si la dirección de destino está en la tabla MAC. Si es así, el frame se enviará solo al puerto correspondiente. Si no, se realizará el flooding."
   ]
  },
  {
   "cell_type": "code",
   "execution_count": null,
   "id": "78dd3c19",
   "metadata": {},
   "outputs": [],
   "source": [
    "def recibir_frame(frame, puerto_origen, puertos):\n",
    "    \"\"\"Procesa frames recibidos en un puerto específico.\"\"\"\n",
    "    direccion_destino = frame['destino']\n",
    "    if direccion_destino in tabla_mac:\n",
    "        puerto_destino = tabla_mac[direccion_destino]\n",
    "        print(f\"Enviando frame a {puerto_destino} desde el puerto {puerto_origen}.\")\n",
    "    else:\n",
    "        print(\"Dirección de destino desconocida, realizando flooding.\")\n",
    "        flooding(frame, puerto_origen, puertos)\n",
    "    # Simulamos que la dirección de origen se aprende automáticamente\n",
    "    direccion_origen = frame['origen']\n",
    "    agregar_a_tabla_mac(direccion_origen, puerto_origen)\n"
   ]
  },
  {
   "cell_type": "markdown",
   "id": "7528fb1b",
   "metadata": {},
   "source": [
    "Paso 4: Demostración de la simulación\n",
    "\n",
    "Para demostrar la simulación, definiremos un conjunto de puertos y simularemos la recepción de varios frames:"
   ]
  },
  {
   "cell_type": "code",
   "execution_count": null,
   "id": "cbde3485",
   "metadata": {},
   "outputs": [],
   "source": [
    "def demostracion():\n",
    "    puertos = [1, 2, 3, 4]\n",
    "    frames = [\n",
    "        {'origen': 'AA:BB:CC:DD:EE:FF', 'destino': 'FF:EE:DD:CC:BB:AA'},\n",
    "        {'origen': 'BB:CC:DD:EE:FF:AA', 'destino': 'AA:BB:CC:DD:EE:FF'},\n",
    "    ]\n",
    "\n",
    "    for frame in frames:\n",
    "        recibir_frame(frame, 1, puertos)\n",
    "        recibir_frame(frame, 2, puertos)\n",
    "\n",
    "if __name__ == \"__main__\":\n",
    "    demostracion()\n"
   ]
  },
  {
   "cell_type": "markdown",
   "id": "2e754de5",
   "metadata": {},
   "source": [
    "#### Ejercicios adicionales\n",
    "\n",
    "- Implementa una política de tiempo de vida para las entradas de la tabla MAC para que se eliminen después de un período de inactividad.\n",
    "- Optimización del flooding: Explora técnicas para reducir la cantidad de flooding necesario, como el uso de árboles de expansión (Spanning Tree Protocol).\n",
    "- Usa una biblioteca gráfica para visualizar cómo los frames se mueven a través del switch y cómo se actualiza la tabla MAC."
   ]
  },
  {
   "cell_type": "markdown",
   "id": "8456619e",
   "metadata": {},
   "source": [
    "Observaciones: Una política de tiempo de vida para las entradas de la tabla MAC en un switch Ethernet se refiere a la gestión de cuánto tiempo se conserva una dirección MAC en la tabla antes de ser automáticamente eliminada. Esta política ayuda a asegurar que la tabla MAC contenga solo información relevante y actualizada, lo que es especialmente importante en entornos dinámicos donde los dispositivos pueden cambiar de puerto o ser reemplazados frecuentemente.\n",
    "\n",
    "Aspectos clave de la política de tiempo de vida (TTL)\n",
    "\n",
    "- Actualización de Entradas: Cada vez que un frame llega a un switch desde un dispositivo, la entrada correspondiente de la dirección MAC se actualiza o se crea si no existe. La política de tiempo de vida reinicia el contador cada vez que se recibe un frame de esa dirección MAC.\n",
    "- Expiración Automática: Si no se reciben frames de una dirección MAC específica dentro del período establecido, la entrada correspondiente se considera obsoleta y se elimina. Esto previene que la tabla MAC crezca indefinidamente, lo cual podría degradar el rendimiento del switch.\n",
    "- Gestión de recursos: Al eliminar entradas antiguas, el switch puede liberar recursos que de otra manera estarían consumidos por direcciones MAC que ya no son relevantes. Esto es crucial para mantener la eficiencia operativa del switch.\n",
    "\n",
    "Podemos implementar una política de tiempo de vida para una tabla MAC simulada en Python, utilizando un enfoque simple:\n",
    "\n",
    "python\n"
   ]
  },
  {
   "cell_type": "code",
   "execution_count": null,
   "id": "ee3c0034",
   "metadata": {},
   "outputs": [],
   "source": [
    "import time\n",
    "\n",
    "tabla_mac = {}\n",
    "\n",
    "def agregar_a_tabla_mac(direccion_mac, puerto, ttl=300):\n",
    "    \"\"\"Agrega o actualiza la entrada de la dirección MAC en la tabla con su puerto correspondiente y tiempo de expiración.\"\"\"\n",
    "    expiracion = time.time() + ttl  # Tiempo actual más el TTL en segundos\n",
    "    tabla_mac[direccion_mac] = (puerto, expiracion)\n",
    "    print(f\"Dirección MAC {direccion_mac} asociada al puerto {puerto} con TTL de {ttl} segundos.\")\n",
    "\n",
    "def verificar_expiracion():\n",
    "    \"\"\"Verifica y elimina las entradas expiradas en la tabla MAC.\"\"\"\n",
    "    claves_a_eliminar = [k for k, v in tabla_mac.items() if time.time() > v[1]]\n",
    "    for k in claves_a_eliminar:\n",
    "        del tabla_mac[k]\n",
    "        print(f\"Entrada expirada para la dirección MAC {k} eliminada.\")\n",
    "\n",
    "def recibir_frame(frame, puerto_origen):\n",
    "    \"\"\"Procesa frames recibidos en un puerto específico, actualizando la tabla MAC.\"\"\"\n",
    "    direccion_origen = frame['origen']\n",
    "    agregar_a_tabla_mac(direccion_origen, puerto_origen)\n",
    "    verificar_expiracion()  # Verificar y limpiar entradas expiradas regularmente\n",
    "\n",
    "# Simulación de la recepción de un frame\n",
    "recibir_frame({'origen': 'AA:BB:CC:DD:EE:FF'}, 1)\n",
    "time.sleep(10)  # Simulando el paso del tiempo\n",
    "recibir_frame({'origen': 'BB:CC:DD:EE:FF:AA'}, 1)\n"
   ]
  },
  {
   "cell_type": "markdown",
   "id": "cbd539fa",
   "metadata": {},
   "source": [
    "La implementación de una política de tiempo de vida para las entradas de la tabla MAC permite a los switches adaptarse a cambios en la red y mantener un rendimiento óptimo al eliminar la información que ya no es necesaria. Además, previene problemas de seguridad potenciales que podrían surgir de direcciones MAC obsoletas o incorrectas. Esta técnica es esencial en redes grandes y dinámicas donde los dispositivos se conectan y desconectan frecuentemente."
   ]
  },
  {
   "cell_type": "markdown",
   "id": "0f75604a",
   "metadata": {},
   "source": [
    "El Spanning Tree Protocol (STP), o Protocolo de Árbol de Expansión, es una tecnología de red esencial utilizada en switches para prevenir bucles de red en entornos con topologías de red que contienen rutas redundantes. En redes con múltiples caminos entre switches, sin una gestión adecuada, los bucles de tráfico pueden causar múltiples problemas, incluyendo tormentas de broadcast que pueden paralizar la red.\n",
    "\n",
    "STP opera creando un árbol de expansión que abarca todos los switches en la red pero que no contiene bucles. Este árbol asegura que haya un único camino lógico entre todos los dispositivos en la red, eliminando la posibilidad de bucles de tráfico.\n",
    "\n",
    "- Elección de la raíz: Todos los switches en la red participan en una elección para determinar cuál será el switch raíz del árbol de expansión. Este switch sirve como punto focal para el cálculo del árbol de expansión.\n",
    "\n",
    "- Selección del mejor camino: Cada switch determina el mejor camino para llegar al switch raíz basado en un costo de camino que típicamente depende de la velocidad de las conexiones de red. Se elige el camino con el menor costo.\n",
    "\n",
    "- Activación de puertos: Cada switch activa los puertos que forman parte del árbol de expansión y desactiva aquellos que generarían un bucle si estuvieran activos.\n",
    "- Reconfiguración dinámica: Si la topología de la red cambia debido a fallos de equipo o a cambios en la configuración, STP recalcula automáticamente el árbol de expansión para adaptarse a la nueva topología.\n",
    "\n",
    "El uso de STP puede ayudar significativamente a reducir la necesidad de flooding. Al eliminar bucles y definir caminos únicos para el tráfico de red, se reduce la cantidad de tráfico que necesita ser enviado por flooding. Esto es porque con un árbol de expansión, cada switch tiene un claro entendimiento de en qué puerto debe enviar un frame para que este alcance su destino, si es conocido, o por qué puerto debe floodar el tráfico si la dirección aún no se conoce en la tabla MAC."
   ]
  },
  {
   "cell_type": "markdown",
   "id": "2221e37d",
   "metadata": {},
   "source": [
    "#### Respuesta 13\n",
    "\n",
    "\n",
    "Para calcular la probabilidad de interferencia en un canal compartido utilizando el método de acceso CSMA/CA, primero necesitamos entender algunos conceptos clave:\n",
    "\n",
    "- Co-channel Interference (Interferencia Co-canal): Es la interferencia que ocurre cuando múltiples dispositivos transmiten al mismo tiempo en el mismo canal de comunicación.\n",
    "- CSMA/CA (Carrier Sense Multiple Access with Collision Avoidance): Es un protocolo de acceso al medio utilizado en redes inalámbricas para evitar colisiones entre transmisiones. Los dispositivos escuchan el canal antes de transmitir y si detectan actividad, esperan un período aleatorio antes de intentar transmitir nuevamente."
   ]
  },
  {
   "cell_type": "code",
   "execution_count": null,
   "id": "bc8eb7ce",
   "metadata": {},
   "outputs": [],
   "source": [
    "import random\n",
    "\n",
    "def interference_probability(num_devices, collision_prob):\n",
    "    \"\"\"\n",
    "    Calcula la probabilidad de interferencia en un canal compartido utilizando CSMA/CA.\n",
    "\n",
    "    Args:\n",
    "    - num_devices: Número total de dispositivos activos en el canal.\n",
    "    - collision_prob: Probabilidad de colisión en el canal.\n",
    "\n",
    "    Returns:\n",
    "    - prob_interference: Probabilidad de interferencia en el canal.\n",
    "    \"\"\"\n",
    "    # Calcula la probabilidad de que al menos un dispositivo transmita durante un tiempo determinado\n",
    "    p_transmit = 1 - (1 - collision_prob) ** num_devices\n",
    "\n",
    "    # Probabilidad de interferencia\n",
    "    prob_interference = p_transmit\n",
    "\n",
    "    return prob_interference\n",
    "\n",
    "# Ejemplo de uso\n",
    "num_devices = 10\n",
    "collision_prob = 0.1\n",
    "interference_prob = interference_probability(num_devices, collision_prob)\n",
    "print(\"Probabilidad de interferencia:\", interference_prob)\n"
   ]
  },
  {
   "cell_type": "markdown",
   "id": "29264ecd",
   "metadata": {},
   "source": [
    "Este código simula la probabilidad de interferencia en un canal compartido. El parámetro collision_prob representa la probabilidad de colisión en el canal, que puede depender de factores como la distancia entre dispositivos, la potencia de la señal y el ruido ambiental. La función interference_probability calcula la probabilidad de que al menos un dispositivo transmita durante un período de tiempo dado, y esta probabilidad se considera como la probabilidad de interferencia en el canal."
   ]
  },
  {
   "cell_type": "markdown",
   "id": "2a6a3423",
   "metadata": {},
   "source": [
    "#### Ejercicios adicionales\n",
    "\n",
    "- Supongamos que hay 20 dispositivos activos en un canal con una probabilidad de colisión de 0.05. ¿Cuál es la probabilidad de interferencia?\n",
    "- ¿Cómo cambiaría la probabilidad de interferencia si el número de dispositivos activos aumenta a 30?\n",
    "- ¿Qué pasaría con la probabilidad de interferencia si la probabilidad de colisión aumenta a 0.1?\n",
    "- ¿Cómo afectaría una mayor distancia entre dispositivos a la probabilidad de interferencia?\n",
    "- Escribe una función que genere un número aleatorio de dispositivos activos en un canal, y luego calcule y muestre la probabilidad de interferencia en el canal.\n",
    "- Escribe una función que simule cómo cambia la probabilidad de interferencia a medida que la probabilidad de colisión varía en un rango específico."
   ]
  },
  {
   "cell_type": "code",
   "execution_count": null,
   "id": "b9457157",
   "metadata": {},
   "outputs": [],
   "source": [
    "## Tus respuestas"
   ]
  },
  {
   "cell_type": "markdown",
   "id": "05e7d77d",
   "metadata": {},
   "source": [
    "#### Respuesta 14\n",
    "\n",
    "\n",
    "Una VLAN (Virtual Local Area Network) es una red local virtual que permite segmentar una red física en múltiples redes lógicas. En una red VLAN, los dispositivos se agrupan lógicamente independientemente de su ubicación física en la red. Esto ofrece beneficios como mejor seguridad, rendimiento y gestión de la red.\n",
    "\n",
    "Cada VLAN tiene su propio dominio de difusión, lo que significa que los mensajes de difusión enviados por un dispositivo en una VLAN no se propagarán a otras VLANs. Esto ayuda a reducir el tráfico de red no deseado y mejora la seguridad.\n",
    "\n",
    "Los trunks son enlaces de red que transportan datos de múltiples VLANs entre dispositivos de red, como switches. Los trunks permiten que múltiples VLANs se comuniquen entre sí a través de un único enlace físico. Esto es esencial para redes grandes donde se requiere que múltiples VLANs se comuniquen entre sí.\n",
    "\n",
    "Cuando los datos se envían a través de un trunk, se utilizan etiquetas VLAN para identificar a qué VLAN pertenece cada paquete de datos. Estas etiquetas VLAN se agregan a los paquetes de datos cuando salen de un switch y se eliminan cuando llegan al switch de destino. Esto permite que los dispositivos en extremos opuestos del trunk se comuniquen entre sí como si estuvieran en la misma VLAN, aunque pueden estar en VLANs diferentes físicamente separadas.\n",
    "\n",
    "\n",
    "Realizamos una implementación básica para la simulación de configuración y administración de VLANs en un entorno de red:"
   ]
  },
  {
   "cell_type": "code",
   "execution_count": null,
   "id": "6a4f4943",
   "metadata": {},
   "outputs": [],
   "source": [
    "class Switch:\n",
    "    def __init__(self, name):\n",
    "        self.name = name\n",
    "        self.vlans = {}\n",
    "        self.trunks = set()\n",
    "\n",
    "    def configure_vlan(self, vlan_id, ports):\n",
    "        self.vlans[vlan_id] = set(ports)\n",
    "\n",
    "    def configure_trunk(self, other_switch):\n",
    "        self.trunks.add(other_switch)\n",
    "        other_switch.trunks.add(self)\n",
    "\n",
    "    def send_message(self, vlan_id, message):\n",
    "        for port in self.vlans.get(vlan_id, []):\n",
    "            print(f\"Switch {self.name} sending message '{message}' on VLAN {vlan_id} to port {port}\")\n",
    "        for trunk in self.trunks:\n",
    "            print(f\"Switch {self.name} sending message '{message}' on VLAN {vlan_id} to trunk with {trunk.name}\")\n",
    "\n",
    "# Ejemplo de uso\n",
    "switch1 = Switch(\"Switch1\")\n",
    "switch2 = Switch(\"Switch2\")\n",
    "\n",
    "# Configurar VLANs en Switch1\n",
    "switch1.configure_vlan(10, [1, 2, 3])\n",
    "switch1.configure_vlan(20, [4, 5])\n",
    "\n",
    "# Configurar VLANs en Switch2\n",
    "switch2.configure_vlan(10, [1, 3])\n",
    "switch2.configure_vlan(30, [2, 4])\n",
    "\n",
    "# Configurar trunk entre Switch1 y Switch2\n",
    "switch1.configure_trunk(switch2)\n",
    "\n",
    "# Enviar mensaje a través de VLAN 10 desde Switch1\n",
    "switch1.send_message(10, \"Hello VLAN 10!\")\n"
   ]
  },
  {
   "cell_type": "markdown",
   "id": "ad28afca",
   "metadata": {},
   "source": [
    "Este código crea una clase Switch que simula un switch de red. Los switches pueden configurar VLANs y troncales (trunks) entre sí. Cada switch mantiene un diccionario vlans donde las claves son los IDs de las VLANs y los valores son conjuntos de puertos asociados a esas VLANs. Los troncales se modelan como un conjunto de switches con los que están conectados.\n",
    "\n",
    "La función send_message simula el envío de un mensaje a través de una VLAN específica en un switch dado. Envía el mensaje a todos los puertos asociados a la VLAN en ese switch y a través de los troncales a otros switches conectados.\n",
    "\n"
   ]
  },
  {
   "cell_type": "markdown",
   "id": "135ba979",
   "metadata": {},
   "source": [
    "#### Ejercicios adicionales\n",
    "\n",
    "- Modifica la clase Switch para agregar un método que permita eliminar una VLAN existente.\n",
    "- Modifica la clase Switch para agregar soporte para el manejo de etiquetas VLAN en troncales. Esto implica agregar una lista de etiquetas VLAN que el switch acepta en los troncales entrantes y salientes.\n",
    "- Modifica el método send_message para que los mensajes de difusión se propaguen correctamente solo dentro de la misma VLAN y no a través de los troncales.\n",
    "- Implementa un método que verifique si hay redundancia de troncales en la red y proporcione una advertencia si se detecta.\n",
    "- Crea un método que permita enviar mensajes entre dos switches en diferentes VLANs utilizando una tabla de enrutamiento VLAN.\n",
    "- Modifica la clase Switch para permitir la configuración de una VLAN nativa en los troncales, que es una VLAN que se envía sin etiquetar a través del troncal.\n",
    "- Agrega manejo de errores en la clase Switch para casos como la configuración incorrecta de troncales o la configuración de puertos en VLANs no existentes.\n",
    "- Crea un método que permita buscar todos los puertos de un switch que pertenecen a una VLAN específica.\n",
    "- Implementa un método que imprima el estado actual de la red, incluyendo la configuración de VLANs y troncales en cada switch.\n",
    "- Crea una interfaz de usuario simple que permita a los usuarios configurar VLANs y troncales y enviar mensajes entre switches."
   ]
  },
  {
   "cell_type": "code",
   "execution_count": null,
   "id": "0909ab18",
   "metadata": {},
   "outputs": [],
   "source": [
    "## Tu respuesta"
   ]
  },
  {
   "cell_type": "markdown",
   "id": "72b2cdbc",
   "metadata": {},
   "source": [
    "#### Respuesta 17\n",
    "\n",
    "La codificación Base64 es un método de codificación de datos binarios en texto ASCII. Se utiliza comúnmente para convertir datos binarios en un formato legible por humanos que es seguro para la transmisión a través de protocolos que manejan solo texto ASCII, como el correo electrónico.\n",
    "\n",
    "En la codificación Base64, cada grupo de tres bytes de datos binarios se convierte en cuatro caracteres ASCII. Estos caracteres pueden ser letras mayúsculas y minúsculas (A-Z, a-z), dígitos (0-9) y los caracteres especiales '+' y '/'. Además, se utiliza un carácter de relleno '=' si el número de bytes de entrada no es un múltiplo de tres.\n",
    "\n",
    "Se realiza una implementación simple en Python de funciones para codificar y decodificar texto usando la codificación Base64 sin utilizar la biblioteca base64 de Python:"
   ]
  },
  {
   "cell_type": "code",
   "execution_count": null,
   "id": "f7c97736",
   "metadata": {},
   "outputs": [],
   "source": [
    "def encode_base64(text):\n",
    "    # Tabla de caracteres Base64\n",
    "    base64_chars = \"ABCDEFGHIJKLMNOPQRSTUVWXYZabcdefghijklmnopqrstuvwxyz0123456789+/\"\n",
    "\n",
    "    # Convertir texto a una secuencia de bytes\n",
    "    bytes_text = text.encode()\n",
    "\n",
    "    # Codificar los bytes en Base64\n",
    "    result = \"\"\n",
    "    for i in range(0, len(bytes_text), 3):\n",
    "        chunk = bytes_text[i:i+3]\n",
    "        # Rellenar con ceros si el tamaño no es múltiplo de 3\n",
    "        if len(chunk) < 3:\n",
    "            chunk += b'\\x00' * (3 - len(chunk))\n",
    "        # Obtener valores ASCII de los bytes\n",
    "        values = [byte for byte in chunk]\n",
    "        # Obtener índices en la tabla Base64\n",
    "        index1 = (values[0] & 0xfc) >> 2\n",
    "        index2 = ((values[0] & 0x03) << 4) | ((values[1] & 0xf0) >> 4)\n",
    "        index3 = ((values[1] & 0x0f) << 2) | ((values[2] & 0xc0) >> 6)\n",
    "        index4 = values[2] & 0x3f\n",
    "        # Convertir índices a caracteres Base64\n",
    "        result += base64_chars[index1] + base64_chars[index2] + base64_chars[index3] + base64_chars[index4]\n",
    "\n",
    "    # Reemplazar el último caracter con '=' si la longitud no es un múltiplo de 3\n",
    "    if len(bytes_text) % 3 == 1:\n",
    "        result = result[:-2] + \"==\"\n",
    "    elif len(bytes_text) % 3 == 2:\n",
    "        result = result[:-1] + \"=\"\n",
    "    \n",
    "    return result\n",
    "\n",
    "def decode_base64(encoded_text):\n",
    "    # Tabla de caracteres Base64\n",
    "    base64_chars = \"ABCDEFGHIJKLMNOPQRSTUVWXYZabcdefghijklmnopqrstuvwxyz0123456789+/\"\n",
    "\n",
    "    # Convertir texto codificado a una secuencia de bytes\n",
    "    bytes_text = bytearray()\n",
    "    for char in encoded_text:\n",
    "        if char == '=':\n",
    "            break\n",
    "        bytes_text.append(base64_chars.index(char))\n",
    "\n",
    "    # Decodificar los bytes desde Base64\n",
    "    result = bytearray()\n",
    "    for i in range(0, len(bytes_text), 4):\n",
    "        chunk = bytes_text[i:i+4]\n",
    "        # Obtener valores binarios de los caracteres Base64\n",
    "        values = [byte for byte in chunk]\n",
    "        # Asegurarse de que haya suficientes valores para la decodificación\n",
    "        if len(values) >= 3:\n",
    "            # Calcular valores de bytes decodificados\n",
    "            byte1 = (values[0] << 2) | (values[1] >> 4)\n",
    "            byte2 = ((values[1] & 0x0f) << 4) | ((values[2] & 0x3c) >> 2)\n",
    "            byte3 = ((values[2] & 0x03) << 6) | (values[3] if len(values) > 3 else 0)\n",
    "            # Agregar bytes decodificados al resultado\n",
    "            result.extend([byte1, byte2, byte3])\n",
    "\n",
    "    # Eliminar bytes de relleno\n",
    "    if encoded_text[-1] == '=':\n",
    "        result.pop()\n",
    "        if encoded_text[-2] == '=':\n",
    "            result.pop()\n",
    "\n",
    "    return bytes(result).decode()\n",
    "\n",
    "\n",
    "\n"
   ]
  },
  {
   "cell_type": "markdown",
   "id": "9a0189d8",
   "metadata": {},
   "source": [
    "Este código proporciona funciones para codificar y decodificar texto utilizando la codificación Base64 sin usar la biblioteca base64 de Python. Aquí está una explicación detallada del código:\n",
    "\n",
    "- La función encode_base64(text) toma un texto como entrada y lo convierte en una secuencia de bytes utilizando el método encode() de la cadena de texto. Luego, itera sobre los bytes en bloques de tres y los convierte en caracteres Base64. Los caracteres Base64 se eligen según la tabla de caracteres base64_chars. Si el número de bytes no es un múltiplo de tres, se agregan ceros al final y se ajusta la salida en consecuencia. Finalmente, devuelve el texto codificado en Base64.\n",
    "- La función decode_base64(encoded_text) toma el texto codificado en Base64 como entrada y lo decodifica en una secuencia de bytes. Itera sobre los caracteres del texto codificado y encuentra los índices correspondientes en la tabla de caracteres Base64. Luego, convierte estos índices de nuevo en bytes decodificados. Se eliminan los bytes de relleno al final del proceso de decodificación y se devuelve el texto decodificado."
   ]
  },
  {
   "cell_type": "code",
   "execution_count": null,
   "id": "6b909bbd",
   "metadata": {},
   "outputs": [],
   "source": [
    "text_to_encode = \"Hello, World!\"\n",
    "encoded_text = encode_base64(text_to_encode)\n",
    "print(\"Texto codificado:\", encoded_text)\n",
    "decoded_text = decode_base64(encoded_text)\n",
    "print(\"Texto decodificado:\", decoded_text)\n"
   ]
  },
  {
   "cell_type": "markdown",
   "id": "1ed45e6c",
   "metadata": {},
   "source": [
    "#### Ejercicios adicionales\n",
    "\n",
    "- Modifica las funciones para admitir una tabla de caracteres Base64 personalizada que incluya caracteres adicionales o excluya algunos de los caracteres estándar.\n",
    "- Actualiza la función de decodificación para admitir texto codificado en Base64 con o sin caracteres de relleno ('=') al final.\n",
    "- Modifica las funciones para manejar correctamente el texto Unicode, asegurándote de que la codificación y decodificación se realicen correctamente para cualquier tipo de texto.\n",
    "- Encuentra formas de optimizar el rendimiento de las funciones de codificación y decodificación, especialmente para textos largos o grandes volúmenes de datos.\n",
    "- Intenta implementar otras codificaciones de texto, como Base32 o Base16, siguiendo un enfoque similar al de Base64.\n",
    "- Agrega validación de entrada en las funciones para asegurarte de que solo se proporcionen datos válidos para codificación o decodificación.\n",
    "- Crea funciones adicionales para codificar y decodificar archivos binarios en Base64, permitiendo la conversión de archivos a y desde texto Base64.\n",
    "- Explora cómo podrías integrar la codificación Base64 con otros algoritmos de cifrado o compresión para crear un sistema más completo de procesamiento de datos.\n",
    "- Escribe pruebas unitarias exhaustivas para verificar la precisión y robustez de las funciones de codificación y decodificación en una variedad de casos de prueba.\n",
    "- Crea una interfaz de usuario simple que permita a los usuarios ingresar texto y ver el resultado de la codificación y decodificación Base64 en tiempo real."
   ]
  },
  {
   "cell_type": "code",
   "execution_count": null,
   "id": "b00b9b91",
   "metadata": {},
   "outputs": [],
   "source": [
    "## Tus respuestas"
   ]
  },
  {
   "cell_type": "markdown",
   "id": "aead2990",
   "metadata": {},
   "source": [
    "#### Respuesta 18\n",
    "\n",
    "Para simular un ataque de denegación de servicio (DoS), podemos crear una función que genere una carga intensa de solicitudes a un servicio de red y determine cuándo el servicio se consideraría sobrecargado."
   ]
  },
  {
   "cell_type": "code",
   "execution_count": null,
   "id": "702ec19b",
   "metadata": {},
   "outputs": [],
   "source": [
    "import time\n",
    "\n",
    "def simulate_dos_attack(request_rate_threshold, duration, service_capacity):\n",
    "    \"\"\"\n",
    "    Simula un ataque de denegación de servicio (DoS) a un servicio de red.\n",
    "\n",
    "    Args:\n",
    "    - request_rate_threshold: Umbral de tasa de solicitudes para considerar el servicio sobrecargado.\n",
    "    - duration: Duración del ataque (en segundos).\n",
    "    - service_capacity: Capacidad máxima del servicio para manejar solicitudes.\n",
    "\n",
    "    Returns:\n",
    "    - overload_start_time: Tiempo en el que el servicio se considera sobrecargado.\n",
    "    \"\"\"\n",
    "    start_time = time.time() - 0.001  # Establecer start_time ligeramente antes del inicio del bucle\n",
    "    current_time = start_time\n",
    "    request_count = 0\n",
    "\n",
    "    while current_time - start_time < duration:\n",
    "        # Simula la llegada de una solicitud\n",
    "        request_count += 1\n",
    "\n",
    "        # Verifica si el servicio está sobrecargado\n",
    "        if current_time - start_time != 0 and request_count / (current_time - start_time) > request_rate_threshold:\n",
    "            overload_start_time = current_time\n",
    "            return overload_start_time\n",
    "\n",
    "        # Simula el procesamiento de la solicitud\n",
    "        time.sleep(0.001)\n",
    "\n",
    "        # Actualiza el tiempo actual\n",
    "        current_time = time.time()\n",
    "\n",
    "    # Si no se supera el umbral durante la duración especificada, el servicio no se considera sobrecargado\n",
    "    return None\n",
    "\n",
    "# Ejemplo de uso\n",
    "request_rate_threshold = 100  # Umbral de 100 solicitudes por segundo\n",
    "duration = 10  # Duración del ataque en segundos\n",
    "service_capacity = 500  # Capacidad máxima del servicio para manejar solicitudes\n",
    "\n",
    "overload_start_time = simulate_dos_attack(request_rate_threshold, duration, service_capacity)\n",
    "if overload_start_time:\n",
    "    print(f\"El servicio está sobrecargado a partir de {overload_start_time}\")\n",
    "else:\n",
    "    print(\"El servicio no está sobrecargado durante el ataque.\")\n"
   ]
  },
  {
   "cell_type": "markdown",
   "id": "c28a9dc6",
   "metadata": {},
   "source": [
    "El valor 1715265897.5914528 que se muestra en el mensaje \"El servicio está sobrecargado a partir de 1715265897.5914528\" es el momento exacto en el que el servicio se considera sobrecargado durante la simulación del ataque de denegación de servicio.\n",
    "\n",
    "En el código proporcionado, la función simulate_dos_attack simula un ataque de denegación de servicio (DoS) a un servicio de red durante un período de tiempo específico. Aquí está el resumen del funcionamiento del código:"
   ]
  },
  {
   "cell_type": "markdown",
   "id": "45320c03",
   "metadata": {},
   "source": [
    "#### Ejercicios adicionales"
   ]
  },
  {
   "cell_type": "markdown",
   "id": "7e24fdc7",
   "metadata": {},
   "source": [
    "- Modifica el código para que las solicitudes se manejen en una cola en lugar de procesarse una a la vez. Esto puede proporcionar una representación más realista de cómo se manejarían las solicitudes en un entorno de producción.\n",
    "\n",
    "- Modifica el código para que el servicio tenga una capacidad máxima definida y rechace las solicitudes adicionales una vez que se alcance esa capacidad. Puedes usar una estructura de datos como una cola para almacenar las solicitudes en espera y rechazarlas si la cola está llena.\n",
    "\n",
    "- Modifica el código para registrar todas las solicitudes recibidas durante el ataque, junto con su hora de llegada. Esto puede ayudar en el análisis posterior del ataque y en la identificación de patrones de tráfico malicioso.\n",
    "\n",
    "- Crea una función adicional que, una vez que se detecte una sobrecarga, bloquee la dirección IP del atacante para evitar más solicitudes maliciosas durante un período de tiempo específico.\n",
    "\n",
    "- Desarrolla un programa adicional que simule múltiples escenarios de ataque con diferentes valores de umbral de tasa de solicitudes, duraciones y capacidades de servicio, y analice cómo afectan estos parámetros a la detección y manejo del ataque.\n"
   ]
  },
  {
   "cell_type": "code",
   "execution_count": null,
   "id": "062ba556",
   "metadata": {},
   "outputs": [],
   "source": [
    "## Tus respuestas"
   ]
  },
  {
   "cell_type": "markdown",
   "id": "fa287ab0",
   "metadata": {},
   "source": [
    "#### Resolución 21\n",
    "\n",
    "Consideraremos un modelo simplificado que implemente tanto consultas recursivas como iterativas. Utilizaremos funciones puras en Python para simular cómo un cliente DNS podría resolver diferentes tipos de registros DNS.\n",
    "\n",
    "Vamos a simular una base de datos muy simple para los registros DNS utilizando diccionarios de Python. Cada dominio puede tener varios tipos de registros asociados y usaremos las siguiente funciones: resolve_name: Esta función determinará si se realiza una consulta recursiva o iterativa y devolverá el resultado de la resolución DNS y  funciones auxiliares que simularán la búsqueda de registros en nuestra \"base de datos\" y manejarán la lógica específica de cada tipo de registro."
   ]
  },
  {
   "cell_type": "code",
   "execution_count": null,
   "id": "28dec91a",
   "metadata": {},
   "outputs": [],
   "source": [
    "# Base de datos simulada de registros DNS\n",
    "dns_records = {\n",
    "    'example.com': {\n",
    "        'A': '93.184.216.34',\n",
    "        'AAAA': '2606:2800:220:1:248:1893:25c8:1946',\n",
    "        'MX': 'mail.example.com',\n",
    "        'CNAME': None,\n",
    "        'NS': 'ns.example.com'\n",
    "    },\n",
    "    'mail.example.com': {\n",
    "        'A': '93.184.216.36'\n",
    "    },\n",
    "    'ns.example.com': {\n",
    "        'A': '93.184.216.37'\n",
    "    }\n",
    "}\n",
    "\n",
    "def query_dns(domain, record_type):\n",
    "    \"\"\" Simula la búsqueda de un registro DNS específico. \"\"\"\n",
    "    records = dns_records.get(domain, {})\n",
    "    return records.get(record_type)\n",
    "\n",
    "def iterative_query(domain, record_type):\n",
    "    \"\"\" Simula una consulta iterativa, buscando registro por registro. \"\"\"\n",
    "    result = query_dns(domain, record_type)\n",
    "    if result:\n",
    "        return result\n",
    "    return \"No record found\"\n",
    "\n",
    "def recursive_query(domain, record_type):\n",
    "    \"\"\" Simula una consulta recursiva, que podría seguir encadenando búsquedas si se encuentra un CNAME. \"\"\"\n",
    "    result = query_dns(domain, record_type)\n",
    "    if record_type == 'CNAME' and result:\n",
    "        return recursive_query(result, record_type)\n",
    "    return result if result else \"No record found\"\n",
    "\n",
    "def resolve_name(domain, record_type, query_type='recursive'):\n",
    "    \"\"\" Función principal para resolver nombres usando DNS. Decide entre recursiva e iterativa. \"\"\"\n",
    "    if query_type == 'recursive':\n",
    "        return recursive_query(domain, record_type)\n",
    "    else:\n",
    "        return iterative_query(domain, record_type)\n",
    "\n",
    "# Ejemplo de uso\n",
    "print(resolve_name('example.com', 'A'))  # Consulta recursiva por defecto\n",
    "print(resolve_name('example.com', 'MX', 'iterative'))  # Consulta iterativa explícita\n"
   ]
  },
  {
   "cell_type": "markdown",
   "id": "b9c45df4",
   "metadata": {},
   "source": [
    "Explicación del código\n",
    "\n",
    "- Base de datos: dns_records es un diccionario que representa una base de datos simplificada de registros DNS para varios dominios.\n",
    "- query_dns: Función que busca un registro específico para un dominio.\n",
    "- iterative_query y recursive_query: Simulan los dos tipos de consultas DNS. La iterativa devuelve directamente lo que encuentra, mientras que la recursiva puede seguir resolviendo nombres si el tipo de registro es CNAME.\n",
    "- resolve_name: Decide si usar una consulta recursiva o iterativa basada en el parámetro query_type."
   ]
  },
  {
   "cell_type": "markdown",
   "id": "9f435791",
   "metadata": {},
   "source": [
    "#### Ejercicios adicionales\n",
    "\n",
    "- Extiende la base de datos con más dominios y registros.\n",
    "- Implementa  un manejo más complejo de registros CNAME en recursive_query.\n",
    "- Mejora la función iterative_query para simular más fielmente cómo los servidores DNS resolverían una consulta iterativa pasando por varios servidores."
   ]
  },
  {
   "cell_type": "code",
   "execution_count": null,
   "id": "a87c5226",
   "metadata": {},
   "outputs": [],
   "source": [
    "## Tus respuestas"
   ]
  },
  {
   "cell_type": "markdown",
   "id": "ef8af00a",
   "metadata": {},
   "source": [
    "#### Respuesta 22\n",
    "\n",
    "Para simular un servidor DNS con capacidad de caché en Python, crearemos una implementación que maneje entradas de caché, las actualice con un tiempo de vida (TTL) y las limpie de forma periódica cuando expiren. Utilizaremos una aproximación funcional donde cada función tiene un propósito específico y no se comparten estados entre funciones fuera de los parámetros y retornos.\n",
    "\n",
    "- Usaremos un diccionario para simular la caché del servidor DNS, donde cada clave será un nombre de dominio y cada valor será otro diccionario con los registros y sus TTL.\n",
    "\n",
    "Funciones a implementar:\n",
    "\n",
    "- query_dns: Consulta la caché y, si no encuentra una entrada válida, simula una consulta externa.\n",
    "- update_cache: Añade o actualiza entradas en la caché, incluyendo la gestión del TTL.\n",
    "- clean_expired_entries: Limpia las entradas de la caché que han expirado."
   ]
  },
  {
   "cell_type": "code",
   "execution_count": null,
   "id": "1ac98c92",
   "metadata": {},
   "outputs": [],
   "source": [
    "import time\n",
    "\n",
    "# Caché simulada para registros DNS con TTL\n",
    "dns_cache = {}\n",
    "\n",
    "def update_cache(domain, record_type, value, ttl):\n",
    "    \"\"\"Añade o actualiza una entrada en la caché con su TTL.\"\"\"\n",
    "    expiration = time.time() + ttl\n",
    "    if domain not in dns_cache:\n",
    "        dns_cache[domain] = {}\n",
    "    dns_cache[domain][record_type] = (value, expiration)\n",
    "    print(f\"Cache updated: {domain} [{record_type}] -> {value} (TTL: {ttl}s)\")\n",
    "\n",
    "def query_dns(domain, record_type):\n",
    "    \"\"\"Consulta la caché para obtener el registro; si no está o ha expirado, simula una consulta externa.\"\"\"\n",
    "    if domain in dns_cache and record_type in dns_cache[domain]:\n",
    "        value, expiration = dns_cache[domain][record_type]\n",
    "        if expiration > time.time():\n",
    "            print(f\"Cache hit: {domain} [{record_type}] -> {value}\")\n",
    "            return value\n",
    "        else:\n",
    "            print(f\"Cache expired for: {domain} [{record_type}]\")\n",
    "    # Simulación de una consulta externa (podrías mejorar esto con lógica de red real)\n",
    "    external_value = \"192.168.1.1\"  # Valor ficticio\n",
    "    update_cache(domain, record_type, external_value, 30)  # TTL de 30 segundos\n",
    "    return external_value\n",
    "\n",
    "def clean_expired_entries():\n",
    "    \"\"\"Limpia las entradas expiradas en la caché.\"\"\"\n",
    "    current_time = time.time()\n",
    "    for domain in list(dns_cache.keys()):\n",
    "        for record_type in list(dns_cache[domain].keys()):\n",
    "            _, expiration = dns_cache[domain][record_type]\n",
    "            if expiration <= current_time:\n",
    "                del dns_cache[domain][record_type]\n",
    "                if not dns_cache[domain]:\n",
    "                    del dns_cache[domain]\n",
    "                print(f\"Expired cache entry removed: {domain} [{record_type}]\")\n",
    "\n",
    "# Uso de la simulación de caché DNS\n",
    "update_cache('example.com', 'A', '93.184.216.34', 10)  # TTL de 10 segundos\n",
    "query_dns('example.com', 'A')\n",
    "time.sleep(5)\n",
    "query_dns('example.com', 'A')\n",
    "time.sleep(6)\n",
    "query_dns('example.com', 'A')\n",
    "clean_expired_entries()\n"
   ]
  },
  {
   "cell_type": "markdown",
   "id": "6df13daf",
   "metadata": {},
   "source": [
    "Explicación del código\n",
    "\n",
    "- update_cache: Añade o actualiza la caché con el registro DNS proporcionado y calcula el tiempo de expiración usando el tiempo actual más el TTL.\n",
    "- query_dns: Primero verifica si el registro solicitado está en la caché y si no ha expirado. Si ha expirado o no está presente, simula una consulta externa y actualiza la caché.\n",
    "- clean_expired_entries: Revisa todos los registros en la caché y elimina aquellos cuyo tiempo de expiración ha pasado."
   ]
  },
  {
   "cell_type": "markdown",
   "id": "f5bf71db",
   "metadata": {},
   "source": [
    "#### Ejercicios adicionales\n",
    "\n",
    "- Modifica las funciones update_cache y query_dns para soportar diferentes tipos de registros DNS. Asegúrate de que tu caché pueda almacenar múltiples tipos de registros para un mismo dominio y que la función query_dns busque correctamente según el tipo de registro solicitado.\n",
    "\n",
    "- Implementa una función external_dns_query que simule de manera más realista una consulta DNS externa. Por ejemplo, podría seleccionar de un conjunto predefinido de respuestas basadas en el dominio y el tipo de registro.\n",
    "\n",
    "- Implementa una manera de que esta función se ejecute automáticamente en intervalos regulares. Considera el uso de threading o programación asíncrona para manejar esta tarea en el fondo sin bloquear las consultas principales."
   ]
  },
  {
   "cell_type": "code",
   "execution_count": null,
   "id": "629f9226",
   "metadata": {},
   "outputs": [],
   "source": [
    "## Tus respuestas"
   ]
  }
 ],
 "metadata": {
  "kernelspec": {
   "display_name": "Python 3 (ipykernel)",
   "language": "python",
   "name": "python3"
  },
  "language_info": {
   "codemirror_mode": {
    "name": "ipython",
    "version": 3
   },
   "file_extension": ".py",
   "mimetype": "text/x-python",
   "name": "python",
   "nbconvert_exporter": "python",
   "pygments_lexer": "ipython3",
   "version": "3.7.10"
  }
 },
 "nbformat": 4,
 "nbformat_minor": 5
}
